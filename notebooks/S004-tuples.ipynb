{
 "cells": [
  {
   "cell_type": "code",
   "execution_count": 3,
   "id": "72e9d4e7-826e-48f3-ba30-d92c06676ea0",
   "metadata": {},
   "outputs": [
    {
     "name": "stdout",
     "output_type": "stream",
     "text": [
      "5 3\n"
     ]
    }
   ],
   "source": [
    "## Tuple - Pair of elements\n",
    "\n",
    "stock1 = (\"MSFT\", \"APPL\", \"TSL\", 12, 33)\n",
    "product = (\"WATER\", 12, 3212)\n",
    "\n",
    "print(len(stock1), len(product))"
   ]
  },
  {
   "cell_type": "code",
   "execution_count": 5,
   "id": "5a9bffc6-bea8-485a-bef2-df255fe9b6d4",
   "metadata": {},
   "outputs": [
    {
     "name": "stdout",
     "output_type": "stream",
     "text": [
      "TSL\n",
      "(12, 3212)\n"
     ]
    }
   ],
   "source": [
    "#printig items\n",
    "\n",
    "print(stock1[2])\n",
    "print(product[1:])"
   ]
  },
  {
   "cell_type": "code",
   "execution_count": 7,
   "id": "6570aef0-9723-43a8-b641-f8b686a6e961",
   "metadata": {},
   "outputs": [
    {
     "name": "stdout",
     "output_type": "stream",
     "text": [
      "WATER 12\n"
     ]
    }
   ],
   "source": [
    "# Unpacking Tuples\n",
    "# Decleration - Experarion\n",
    "(symbol, id, price) = product\n",
    "\n",
    "print(symbol, id)"
   ]
  },
  {
   "cell_type": "code",
   "execution_count": 8,
   "id": "7e0e8aa2-add3-4a36-a780-3df8314ae16b",
   "metadata": {},
   "outputs": [
    {
     "name": "stdout",
     "output_type": "stream",
     "text": [
      "['MSFT', 'APPL', 'TSL']\n",
      "12\n",
      "33\n"
     ]
    }
   ],
   "source": [
    "# unpacking\n",
    "stock1 = (\"MSFT\", \"APPL\", \"TSL\", 12, 33)\n",
    "(*symbol, high, low) = stock1\n",
    "print(symbol)\n",
    "print(high)\n",
    "print(low)"
   ]
  },
  {
   "cell_type": "code",
   "execution_count": null,
   "id": "39811591-f29a-4c9d-ad30-8372406abe28",
   "metadata": {},
   "outputs": [],
   "source": []
  }
 ],
 "metadata": {
  "kernelspec": {
   "display_name": "Python 3 (ipykernel)",
   "language": "python",
   "name": "python3"
  },
  "language_info": {
   "codemirror_mode": {
    "name": "ipython",
    "version": 3
   },
   "file_extension": ".py",
   "mimetype": "text/x-python",
   "name": "python",
   "nbconvert_exporter": "python",
   "pygments_lexer": "ipython3",
   "version": "3.7.10"
  }
 },
 "nbformat": 4,
 "nbformat_minor": 5
}
