{
 "cells": [
  {
   "cell_type": "code",
   "execution_count": 1,
   "id": "67318cb4-a44f-49f1-80e3-8dbe2eaa3c9a",
   "metadata": {},
   "outputs": [
    {
     "data": {
      "text/plain": [
       "Intitializing Scala interpreter ..."
      ]
     },
     "metadata": {},
     "output_type": "display_data"
    },
    {
     "data": {
      "text/plain": [
       "Spark Web UI available at http://192.168.80.128:4040\n",
       "SparkContext available as 'sc' (version = 3.1.3, master = local[*], app id = local-1648322907302)\n",
       "SparkSession available as 'spark'\n"
      ]
     },
     "metadata": {},
     "output_type": "display_data"
    },
    {
     "data": {
      "text/plain": [
       "kafkaDf: org.apache.spark.sql.DataFrame = [key: binary, value: binary ... 5 more fields]\n"
      ]
     },
     "execution_count": 1,
     "metadata": {},
     "output_type": "execute_result"
    }
   ],
   "source": [
    "val kafkaDf = spark.readStream\n",
    "                    .format(\"kafka\")\n",
    "                    .option(\"kafka.bootstrap.servers\", \"hadoop-vm:9092\")\n",
    "                    .option(\"subscribe\", \"stock-ticks\")\n",
    "                    .option(\"group.id\", \"stock-ticks-group23\")\n",
    "                    .option(\"header\",true)\n",
    "                    .option(\"inferschema\",true)\n",
    "                    .option(\"delimitter\", \",\")\n",
    "                    .load()"
   ]
  },
  {
   "cell_type": "code",
   "execution_count": 2,
   "id": "f3e05311-cdeb-477d-becb-408be2aa6812",
   "metadata": {},
   "outputs": [
    {
     "name": "stdout",
     "output_type": "stream",
     "text": [
      "root\n",
      " |-- key: binary (nullable = true)\n",
      " |-- value: binary (nullable = true)\n",
      " |-- topic: string (nullable = true)\n",
      " |-- partition: integer (nullable = true)\n",
      " |-- offset: long (nullable = true)\n",
      " |-- timestamp: timestamp (nullable = true)\n",
      " |-- timestampType: integer (nullable = true)\n",
      "\n"
     ]
    }
   ],
   "source": [
    "\n",
    "kafkaDf.printSchema()\n"
   ]
  },
  {
   "cell_type": "code",
   "execution_count": 3,
   "id": "29fc9044-501b-42a2-84f4-bda025caaf9d",
   "metadata": {},
   "outputs": [
    {
     "name": "stdout",
     "output_type": "stream",
     "text": [
      "root\n",
      " |-- value: string (nullable = true)\n",
      " |-- timestamp: timestamp (nullable = true)\n",
      "\n"
     ]
    },
    {
     "data": {
      "text/plain": [
       "ticksDf: org.apache.spark.sql.DataFrame = [value: string, timestamp: timestamp]\n"
      ]
     },
     "execution_count": 3,
     "metadata": {},
     "output_type": "execute_result"
    }
   ],
   "source": [
    "\n",
    "val ticksDf = kafkaDf.selectExpr(\"CAST(value AS STRING)\", \"timestamp\")\n",
    "ticksDf.printSchema()"
   ]
  },
  {
   "cell_type": "code",
   "execution_count": 7,
   "id": "f6e23705-1c34-476d-b7bb-22dba1f65a8b",
   "metadata": {},
   "outputs": [
    {
     "data": {
      "text/plain": [
       "import org.apache.spark.sql.types.{StructField, StructType, DoubleType, StringType, LongType, TimestampType}\n",
       "stockTickschema: org.apache.spark.sql.types.StructType = StructType(StructField(symbol,StringType,true), StructField(price,DoubleType,true), StructField(volume,LongType,true), StructField(timestamp,LongType,true))\n"
      ]
     },
     "execution_count": 7,
     "metadata": {},
     "output_type": "execute_result"
    }
   ],
   "source": [
    "import org.apache.spark.sql.types.{StructField, StructType, DoubleType, StringType, LongType, TimestampType}\n",
    "\n",
    "val stockTickschema = StructType( List(\n",
    "    StructField(\"symbol\", StringType, true),\n",
    "    StructField(\"price\", DoubleType, true),\n",
    "    StructField(\"volume\", LongType, true),\n",
    "    StructField(\"timestamp\", LongType,  true)\n",
    "))"
   ]
  },
  {
   "cell_type": "code",
   "execution_count": 10,
   "id": "783e3d5a-8f66-4a6e-b3fa-dc5bdcdba224",
   "metadata": {},
   "outputs": [
    {
     "name": "stdout",
     "output_type": "stream",
     "text": [
      "root\n",
      " |-- value: struct (nullable = true)\n",
      " |    |-- symbol: string (nullable = true)\n",
      " |    |-- price: double (nullable = true)\n",
      " |    |-- volume: long (nullable = true)\n",
      " |    |-- timestamp: long (nullable = true)\n",
      " |-- timestamp: timestamp (nullable = true)\n",
      "\n"
     ]
    },
    {
     "data": {
      "text/plain": [
       "jsonDf: org.apache.spark.sql.DataFrame = [value: struct<symbol: string, price: double ... 2 more fields>, timestamp: timestamp]\n"
      ]
     },
     "execution_count": 10,
     "metadata": {},
     "output_type": "execute_result"
    }
   ],
   "source": [
    "\n",
    "val jsonDf = ticksDf.withColumn(\"value\", from_json($\"value\", stockTickschema))\n",
    "jsonDf.printSchema()"
   ]
  },
  {
   "cell_type": "code",
   "execution_count": 11,
   "id": "d467c533-8257-4b70-bc0e-3a14868aab5a",
   "metadata": {},
   "outputs": [
    {
     "name": "stdout",
     "output_type": "stream",
     "text": [
      "root\n",
      " |-- symbol: string (nullable = true)\n",
      " |-- price: double (nullable = true)\n",
      " |-- volume: long (nullable = true)\n",
      " |-- timestamp: long (nullable = true)\n",
      "\n"
     ]
    },
    {
     "data": {
      "text/plain": [
       "stockTickDf: org.apache.spark.sql.DataFrame = [symbol: string, price: double ... 2 more fields]\n"
      ]
     },
     "execution_count": 11,
     "metadata": {},
     "output_type": "execute_result"
    }
   ],
   "source": [
    "\n",
    "val stockTickDf = jsonDf.select (col(\"value.*\")) \n",
    "stockTickDf.printSchema()"
   ]
  },
  {
   "cell_type": "code",
   "execution_count": 13,
   "id": "18930826-9837-407f-b57d-b1f12421e309",
   "metadata": {},
   "outputs": [
    {
     "name": "stdout",
     "output_type": "stream",
     "text": [
      "root\n",
      " |-- symbol: string (nullable = true)\n",
      " |-- price: double (nullable = true)\n",
      " |-- volume: long (nullable = true)\n",
      " |-- timestamp: long (nullable = true)\n",
      "\n"
     ]
    },
    {
     "data": {
      "text/plain": [
       "stockTickDf1: org.apache.spark.sql.DataFrame = [symbol: string, price: double ... 2 more fields]\n"
      ]
     },
     "execution_count": 13,
     "metadata": {},
     "output_type": "execute_result"
    }
   ],
   "source": [
    "\n",
    "val stockTickDf1 = stockTickDf\n",
    "                .withColumn(\"timestamp\", (col(\"timestamp\") / 1000).cast(\"timestamp\"))\n",
    "                \n",
    "\n",
    "stockTickDf.printSchema()\n"
   ]
  },
  {
   "cell_type": "code",
   "execution_count": 31,
   "id": "77d24ce2-c8d9-441f-93c3-27c8e5846ec9",
   "metadata": {},
   "outputs": [
    {
     "name": "stdout",
     "output_type": "stream",
     "text": [
      "root\n",
      " |-- symbol: string (nullable = true)\n",
      " |-- window: struct (nullable = false)\n",
      " |    |-- start: timestamp (nullable = true)\n",
      " |    |-- end: timestamp (nullable = true)\n",
      " |-- ticks: array (nullable = false)\n",
      " |    |-- element: struct (containsNull = false)\n",
      " |    |    |-- symbol: string (nullable = true)\n",
      " |    |    |-- price: double (nullable = true)\n",
      " |    |    |-- volume: long (nullable = true)\n",
      " |    |    |-- timestamp: timestamp (nullable = true)\n",
      "\n"
     ]
    },
    {
     "data": {
      "text/plain": [
       "import org.apache.spark.sql.functions.col\n",
       "stockTickDf1Min: org.apache.spark.sql.DataFrame = [symbol: string, window: struct<start: timestamp, end: timestamp> ... 1 more field]\n"
      ]
     },
     "execution_count": 31,
     "metadata": {},
     "output_type": "execute_result"
    }
   ],
   "source": [
    "import org.apache.spark.sql.functions.{col}\n",
    "val stockTickDf1Min = stockTickDf1\n",
    "                            .selectExpr(\"timestamp\", \"symbol\",  \"struct(*) as value\")\n",
    "                            .withWatermark(\"timestamp\", \"1 minutes\")\n",
    "                            .groupBy(col(\"symbol\"),window(col(\"timestamp\"), \"60 seconds\"))\n",
    "                          .agg(collect_list($\"value\").alias(\"ticks\"))\n",
    "\n",
    "stockTickDf1Min.printSchema()"
   ]
  },
  {
   "cell_type": "code",
   "execution_count": 40,
   "id": "cd2d8bfc-76f8-4c0d-ae90-ea6787f40a76",
   "metadata": {},
   "outputs": [
    {
     "data": {
      "text/plain": [
       "import org.apache.spark.sql.functions.{explode, col}\n",
       "import org.apache.spark.sql._\n",
       "processBatchData: (candleBatchDf: org.apache.spark.sql.DataFrame, batch_id: Long)Unit\n",
       "res29: org.apache.spark.sql.streaming.StreamingQuery = org.apache.spark.sql.execution.streaming.StreamingQueryWrapper@5738f5f\n"
      ]
     },
     "execution_count": 40,
     "metadata": {},
     "output_type": "execute_result"
    }
   ],
   "source": [
    "import org.apache.spark.sql.functions.{explode,col}\n",
    "import org.apache.spark.sql._\n",
    "def processBatchData(candleBatchDf:DataFrame, batch_id:Long)={\n",
    "  \n",
    "\n",
    "    print (\"process batch called\", batch_id, \"writing \", candleBatchDf.count())\n",
    "   \n",
    "    var candleTickBatchDf = (candleBatchDf.select(col(\"window\"), explode(column(\"ticks\")) )\n",
    "                                      .select(col(\"window.*\"), col(\"col.*\"))\n",
    "                        )\n",
    "}   \n",
    "    \n",
    "\n",
    "     \n",
    "    \n",
    "stockTickDf1Min.writeStream.foreachBatch(processBatchData _).outputMode(\"append\").start()\n",
    "    \n"
   ]
  },
  {
   "cell_type": "code",
   "execution_count": 42,
   "id": "645b055c-34a2-47e7-8108-4607b1ca04b3",
   "metadata": {},
   "outputs": [
    {
     "data": {
      "text/plain": [
       "stockTickDf1MinKafka: org.apache.spark.sql.DataFrame = [value: string]\n",
       "res30: org.apache.spark.sql.streaming.StreamingQuery = org.apache.spark.sql.execution.streaming.StreamingQueryWrapper@7327ae4a\n"
      ]
     },
     "execution_count": 42,
     "metadata": {},
     "output_type": "execute_result"
    }
   ],
   "source": [
    "\n",
    "\n",
    "val stockTickDf1MinKafka = stockTickDf1Min\n",
    "                            .selectExpr(\"to_json(struct(*)) AS value\")\n",
    "\n",
    "stockTickDf1MinKafka\n",
    "            .writeStream\n",
    "            .format(\"kafka\")\n",
    "            .outputMode(\"update\")\n",
    "            .option(\"kafka.bootstrap.servers\", \"localhost:9092\")\n",
    "            .option(\"topic\", \"candles-1min\")\n",
    "            .option(\"checkpointLocation\", \"file:///tmp/spark3\")\n",
    "            .start()"
   ]
  },
  {
   "cell_type": "code",
   "execution_count": null,
   "id": "46abb403-716d-4a9d-90de-e1175d9a1bf3",
   "metadata": {},
   "outputs": [],
   "source": []
  }
 ],
 "metadata": {
  "kernelspec": {
   "display_name": "spylon-kernel",
   "language": "scala",
   "name": "spylon-kernel"
  },
  "language_info": {
   "codemirror_mode": "text/x-scala",
   "file_extension": ".scala",
   "help_links": [
    {
     "text": "MetaKernel Magics",
     "url": "https://metakernel.readthedocs.io/en/latest/source/README.html"
    }
   ],
   "mimetype": "text/x-scala",
   "name": "scala",
   "pygments_lexer": "scala",
   "version": "0.4.1"
  }
 },
 "nbformat": 4,
 "nbformat_minor": 5
}
