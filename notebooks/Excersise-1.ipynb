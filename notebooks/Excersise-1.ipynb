{
 "cells": [
  {
   "cell_type": "code",
   "execution_count": 1,
   "id": "dc0db701-42fb-455e-a9b3-0d2738131aef",
   "metadata": {},
   "outputs": [],
   "source": [
    "import os\n",
    "\n",
    "SCALA_VERSION = '2.12'\n",
    "SPARK_VERSION = '3.1.3'\n",
    "\n",
    "os.environ['PYSPARK_SUBMIT_ARGS'] = f'--packages org.apache.spark:spark-sql-kafka-0-10_{SCALA_VERSION}:{SPARK_VERSION} pyspark-shell'"
   ]
  },
  {
   "cell_type": "code",
   "execution_count": 2,
   "id": "028fc049-0f5b-44a3-bbea-ac7bff0998cb",
   "metadata": {},
   "outputs": [],
   "source": [
    "import findspark\n",
    "findspark.init()"
   ]
  },
  {
   "cell_type": "code",
   "execution_count": 3,
   "id": "c0ffa28e-e75e-4196-8fef-c36397f9b167",
   "metadata": {},
   "outputs": [
    {
     "name": "stderr",
     "output_type": "stream",
     "text": [
      "22/04/01 21:19:01 WARN Utils: Your hostname, ubuntu-virtual-machine resolves to a loopback address: 127.0.1.1; using 192.168.80.128 instead (on interface ens33)\n",
      "22/04/01 21:19:01 WARN Utils: Set SPARK_LOCAL_IP if you need to bind to another address\n"
     ]
    },
    {
     "name": "stdout",
     "output_type": "stream",
     "text": [
      ":: loading settings :: url = jar:file:/opt/spark-3.1.3-bin-hadoop2.7/jars/ivy-2.4.0.jar!/org/apache/ivy/core/settings/ivysettings.xml\n"
     ]
    },
    {
     "name": "stderr",
     "output_type": "stream",
     "text": [
      "Ivy Default Cache set to: /home/ubuntu/.ivy2/cache\n",
      "The jars for the packages stored in: /home/ubuntu/.ivy2/jars\n",
      "org.apache.spark#spark-sql-kafka-0-10_2.12 added as a dependency\n",
      ":: resolving dependencies :: org.apache.spark#spark-submit-parent-fa882ff3-8944-42e6-a848-b0a49cdb62c2;1.0\n",
      "\tconfs: [default]\n",
      "\tfound org.apache.spark#spark-sql-kafka-0-10_2.12;3.1.3 in central\n",
      "\tfound org.apache.spark#spark-token-provider-kafka-0-10_2.12;3.1.3 in central\n",
      "\tfound org.apache.kafka#kafka-clients;2.6.0 in central\n",
      "\tfound com.github.luben#zstd-jni;1.4.8-1 in central\n",
      "\tfound org.lz4#lz4-java;1.7.1 in central\n",
      "\tfound org.xerial.snappy#snappy-java;1.1.8.2 in central\n",
      "\tfound org.slf4j#slf4j-api;1.7.30 in central\n",
      "\tfound org.spark-project.spark#unused;1.0.0 in central\n",
      "\tfound org.apache.commons#commons-pool2;2.6.2 in central\n",
      ":: resolution report :: resolve 711ms :: artifacts dl 14ms\n",
      "\t:: modules in use:\n",
      "\tcom.github.luben#zstd-jni;1.4.8-1 from central in [default]\n",
      "\torg.apache.commons#commons-pool2;2.6.2 from central in [default]\n",
      "\torg.apache.kafka#kafka-clients;2.6.0 from central in [default]\n",
      "\torg.apache.spark#spark-sql-kafka-0-10_2.12;3.1.3 from central in [default]\n",
      "\torg.apache.spark#spark-token-provider-kafka-0-10_2.12;3.1.3 from central in [default]\n",
      "\torg.lz4#lz4-java;1.7.1 from central in [default]\n",
      "\torg.slf4j#slf4j-api;1.7.30 from central in [default]\n",
      "\torg.spark-project.spark#unused;1.0.0 from central in [default]\n",
      "\torg.xerial.snappy#snappy-java;1.1.8.2 from central in [default]\n",
      "\t---------------------------------------------------------------------\n",
      "\t|                  |            modules            ||   artifacts   |\n",
      "\t|       conf       | number| search|dwnlded|evicted|| number|dwnlded|\n",
      "\t---------------------------------------------------------------------\n",
      "\t|      default     |   9   |   0   |   0   |   0   ||   9   |   0   |\n",
      "\t---------------------------------------------------------------------\n",
      ":: retrieving :: org.apache.spark#spark-submit-parent-fa882ff3-8944-42e6-a848-b0a49cdb62c2\n",
      "\tconfs: [default]\n",
      "\t0 artifacts copied, 9 already retrieved (0kB/12ms)\n",
      "22/04/01 21:19:03 WARN NativeCodeLoader: Unable to load native-hadoop library for your platform... using builtin-java classes where applicable\n",
      "Using Spark's default log4j profile: org/apache/spark/log4j-defaults.properties\n",
      "Setting default log level to \"WARN\".\n",
      "To adjust logging level use sc.setLogLevel(newLevel). For SparkR, use setLogLevel(newLevel).\n"
     ]
    }
   ],
   "source": [
    "import pyspark\n",
    "\n",
    "\n",
    "from pyspark.sql import SparkSession\n",
    "spark = SparkSession.builder.master(\"local[1]\")\\\n",
    "                            .appName(\"SparkStreamingKafkaBasic\").getOrCreate()"
   ]
  },
  {
   "cell_type": "code",
   "execution_count": 4,
   "id": "e27abfa0-a49d-4e2f-a64d-ff6e803bdaf9",
   "metadata": {},
   "outputs": [],
   "source": [
    "kafkaDf = spark.readStream.format(\"kafka\")\\\n",
    "              .option(\"kafka.bootstrap.servers\", \"localhost:9092\")\\\n",
    "              .option(\"subscribe\", \"orders\")\\\n",
    "              .load()"
   ]
  },
  {
   "cell_type": "code",
   "execution_count": 5,
   "id": "b530b7e8-7d68-4159-ad97-a793bf5bd8b1",
   "metadata": {},
   "outputs": [
    {
     "name": "stdout",
     "output_type": "stream",
     "text": [
      "root\n",
      " |-- key: binary (nullable = true)\n",
      " |-- value: binary (nullable = true)\n",
      " |-- topic: string (nullable = true)\n",
      " |-- partition: integer (nullable = true)\n",
      " |-- offset: long (nullable = true)\n",
      " |-- timestamp: timestamp (nullable = true)\n",
      " |-- timestampType: integer (nullable = true)\n",
      "\n"
     ]
    }
   ],
   "source": [
    "kafkaDf.printSchema()"
   ]
  },
  {
   "cell_type": "code",
   "execution_count": 6,
   "id": "bec5731c-e48b-4413-b1df-b36ea1b0220c",
   "metadata": {},
   "outputs": [
    {
     "name": "stdout",
     "output_type": "stream",
     "text": [
      "root\n",
      " |-- value: string (nullable = true)\n",
      " |-- timestamp: timestamp (nullable = true)\n",
      "\n"
     ]
    }
   ],
   "source": [
    "orderRawDf = kafkaDf.selectExpr(\"CAST(value AS STRING)\", \"timestamp\")\n",
    "orderRawDf.printSchema()"
   ]
  },
  {
   "cell_type": "code",
   "execution_count": 7,
   "id": "d61abef6-24a8-41da-9d43-7a8807c2c5de",
   "metadata": {},
   "outputs": [],
   "source": [
    "import pyspark.sql.functions as F\n",
    "from pyspark.sql.types import StructField, StructType, IntegerType, StringType, DoubleType, DateType, LongType\n",
    "\n",
    "schema = StructType([\n",
    "            StructField(\"order_id\", IntegerType(), True),\n",
    "            StructField(\"item_id\", StringType(), True),\n",
    "            StructField(\"price\", IntegerType(), True),\n",
    "            StructField(\"qty\", IntegerType(), True),\n",
    "            StructField(\"order_date\", LongType(), True),\n",
    "            StructField(\"state\", StringType(), True),\n",
    "        ])"
   ]
  },
  {
   "cell_type": "code",
   "execution_count": 8,
   "id": "35c1e2a5-b0f0-4621-a259-b5c6ffbe014e",
   "metadata": {},
   "outputs": [
    {
     "name": "stdout",
     "output_type": "stream",
     "text": [
      "root\n",
      " |-- value: struct (nullable = true)\n",
      " |    |-- order_id: integer (nullable = true)\n",
      " |    |-- item_id: string (nullable = true)\n",
      " |    |-- price: integer (nullable = true)\n",
      " |    |-- qty: integer (nullable = true)\n",
      " |    |-- order_date: long (nullable = true)\n",
      " |    |-- state: string (nullable = true)\n",
      " |-- timestamp: timestamp (nullable = true)\n",
      "\n"
     ]
    }
   ],
   "source": [
    "jsonDf = orderRawDf.withColumn(\"value\", F.from_json(\"value\", schema))\n",
    "jsonDf.printSchema()"
   ]
  },
  {
   "cell_type": "code",
   "execution_count": 9,
   "id": "f25a3072-5f32-4f9d-8f5e-77c25d7bfee1",
   "metadata": {},
   "outputs": [
    {
     "name": "stdout",
     "output_type": "stream",
     "text": [
      "root\n",
      " |-- order_id: integer (nullable = true)\n",
      " |-- item_id: string (nullable = true)\n",
      " |-- price: integer (nullable = true)\n",
      " |-- qty: integer (nullable = true)\n",
      " |-- order_date: long (nullable = true)\n",
      " |-- state: string (nullable = true)\n",
      "\n"
     ]
    }
   ],
   "source": [
    "orderDf = jsonDf.select(F.col(\"value.*\"))\n",
    "orderDf.printSchema()"
   ]
  },
  {
   "cell_type": "code",
   "execution_count": 10,
   "id": "a859a375-fb25-4ebd-9b87-f152589a0dc0",
   "metadata": {},
   "outputs": [
    {
     "name": "stdout",
     "output_type": "stream",
     "text": [
      "root\n",
      " |-- order_id: integer (nullable = true)\n",
      " |-- item_id: string (nullable = true)\n",
      " |-- price: integer (nullable = true)\n",
      " |-- qty: integer (nullable = true)\n",
      " |-- state: string (nullable = true)\n",
      " |-- timestamp: timestamp (nullable = true)\n",
      "\n"
     ]
    }
   ],
   "source": [
    "orderDf = orderDf\\\n",
    "                .withColumn(\"timestampTemp\", (F.col(\"order_date\") / 1000).cast(\"timestamp\"))\\\n",
    "                .withColumn(\"order_time\", F.date_trunc(\"minute\", F.col(\"timestampTemp\")))\\\n",
    "                .drop(\"order_date\")\\\n",
    "                .drop(\"timestampTemp\")\\\n",
    "                .withColumnRenamed(\"order_time\", \"timestamp\")\n",
    "\n",
    "orderDf.printSchema()"
   ]
  },
  {
   "cell_type": "code",
   "execution_count": 11,
   "id": "93c5ab82-f6d3-403f-995a-72070394da82",
   "metadata": {},
   "outputs": [
    {
     "name": "stdout",
     "output_type": "stream",
     "text": [
      "root\n",
      " |-- state: string (nullable = true)\n",
      " |-- window: struct (nullable = false)\n",
      " |    |-- start: timestamp (nullable = true)\n",
      " |    |-- end: timestamp (nullable = true)\n",
      " |-- amount: long (nullable = true)\n",
      "\n"
     ]
    }
   ],
   "source": [
    "orderDf5min= orderDf.withColumn(\"amount\", (F.col(\"price\") * F.col(\"qty\")))\\\n",
    "                    .withWatermark(\"timestamp\", \"1 minutes\")\\\n",
    "                    .groupBy(\"state\", F.window(\"timestamp\", \"5 minutes\"))\\\n",
    "                    .agg( F.sum(\"amount\").alias(\"amount\"))\n",
    "\n",
    "orderDf5min.printSchema() "
   ]
  },
  {
   "cell_type": "code",
   "execution_count": 12,
   "id": "b1ee1fdb-ae22-4661-961e-1baf3a999273",
   "metadata": {},
   "outputs": [],
   "source": [
    "# echoOnconsole = orderDf5min\\\n",
    "#                  .writeStream\\\n",
    "#                 .outputMode(\"update\")\\\n",
    "#                 .format(\"console\")\\\n",
    "#                 .option(\"truncate\", False)\\\n",
    "#                 .start() # start the query. spark will subscribe for data"
   ]
  },
  {
   "cell_type": "code",
   "execution_count": 13,
   "id": "678b92bf-4d33-4dc7-a466-ac8661dc7e6b",
   "metadata": {},
   "outputs": [
    {
     "data": {
      "text/plain": [
       "<pyspark.sql.streaming.StreamingQuery at 0x7f632c22b250>"
      ]
     },
     "execution_count": 13,
     "metadata": {},
     "output_type": "execute_result"
    },
    {
     "name": "stderr",
     "output_type": "stream",
     "text": [
      "22/04/01 21:20:34 WARN NetworkClient: [Consumer clientId=consumer-spark-kafka-source-28e1d48c-43fd-46e9-a6fa-2da364180da0-1811380348-driver-0-1, groupId=spark-kafka-source-28e1d48c-43fd-46e9-a6fa-2da364180da0-1811380348-driver-0] Error while fetching metadata with correlation id 2 : {orders=LEADER_NOT_AVAILABLE}\n",
      "                                                                                \r"
     ]
    }
   ],
   "source": [
    "orderDf5minKafka = orderDf5min\\\n",
    "                            .selectExpr(\"to_json(struct(*)) AS value\")\n",
    "\n",
    "orderDf5minKafka\\\n",
    "            .writeStream\\\n",
    "             .format(\"kafka\")\\\n",
    "            .outputMode(\"update\")\\\n",
    "             .option(\"kafka.bootstrap.servers\", \"localhost:9092\")\\\n",
    "            .option(\"topic\", \"statewise-earning\")\\\n",
    "            .option(\"checkpointLocation\", \"file:///tmp/spark31\")\\\n",
    "            .start()"
   ]
  },
  {
   "cell_type": "code",
   "execution_count": 14,
   "id": "e3a6da3a-a2f7-47df-aa3e-0228052c2ca7",
   "metadata": {},
   "outputs": [
    {
     "name": "stderr",
     "output_type": "stream",
     "text": [
      "22/04/01 21:37:12 WARN StreamingQueryManager: Temporary checkpoint location created which is deleted normally when the query didn't fail: /tmp/temporary-d7b07586-a31f-4328-9c36-a4bc1aae90e0. If it's required to delete it under any circumstances, please set spark.sql.streaming.forceDeleteTempCheckpointLocation to true. Important to know deleting temp checkpoint folder is best effort.\n"
     ]
    },
    {
     "data": {
      "text/plain": [
       "<pyspark.sql.streaming.StreamingQuery at 0x7f632c34aa10>"
      ]
     },
     "execution_count": 14,
     "metadata": {},
     "output_type": "execute_result"
    },
    {
     "name": "stderr",
     "output_type": "stream",
     "text": [
      "                                                                                \r"
     ]
    },
    {
     "name": "stdout",
     "output_type": "stream",
     "text": [
      "process batch called 0 writing  0\n"
     ]
    },
    {
     "name": "stderr",
     "output_type": "stream",
     "text": [
      "                                                                                \r"
     ]
    }
   ],
   "source": [
    "def processBatchData(candleBatchDf, batch_id):\n",
    "    print (\"process batch called\", batch_id, \"writing \", candleBatchDf.count())\n",
    "    \n",
    "    (\n",
    "     candleBatchDf\n",
    "        .select('*', F.col(\"window.*\"))\n",
    "        .withColumnRenamed(\"start\", \"start_time\")\n",
    "        .withColumnRenamed(\"end\", \"end_time\")\n",
    "        .drop(\"window\")\n",
    "        .write\n",
    "        .format(\"jdbc\")\n",
    "        .mode(\"append\")\n",
    "        .option(\"url\", \"jdbc:mysql://localhost:3306/stockdb?allowPublicKeyRetrieval=true&useSSL=false\")\n",
    "        .option(\"driver\", \"com.mysql.jdbc.Driver\")\n",
    "        .option(\"user\", \"team\")\n",
    "        .option(\"password\", \"Team1234!\")\n",
    "        .option(\"dbtable\", \"StatewiseEarning\")\n",
    "         .save()\n",
    "    )\n",
    "    \n",
    "orderDf5min.writeStream.outputMode(\"append\").foreachBatch(processBatchData).start()"
   ]
  },
  {
   "cell_type": "code",
   "execution_count": null,
   "id": "a7466f1c-0895-4c9e-8757-f41ff6ccb903",
   "metadata": {},
   "outputs": [],
   "source": []
  }
 ],
 "metadata": {
  "kernelspec": {
   "display_name": "Python 3 (ipykernel)",
   "language": "python",
   "name": "python3"
  },
  "language_info": {
   "codemirror_mode": {
    "name": "ipython",
    "version": 3
   },
   "file_extension": ".py",
   "mimetype": "text/x-python",
   "name": "python",
   "nbconvert_exporter": "python",
   "pygments_lexer": "ipython3",
   "version": "3.7.12"
  }
 },
 "nbformat": 4,
 "nbformat_minor": 5
}
