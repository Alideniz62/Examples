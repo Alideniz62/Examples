{
 "cells": [
  {
   "cell_type": "code",
   "execution_count": 1,
   "id": "c1ace5ac-e3d1-4de7-b34e-e626359dcd25",
   "metadata": {},
   "outputs": [
    {
     "name": "stdout",
     "output_type": "stream",
     "text": [
      "Hello Ali\n"
     ]
    }
   ],
   "source": [
    "# HWeekend excercises \n",
    "a = \"Ali\"\n",
    "print(\"Hello\", a)"
   ]
  },
  {
   "cell_type": "code",
   "execution_count": 7,
   "id": "4aaa8abc-c8eb-4066-b6e9-41257a0d88f2",
   "metadata": {},
   "outputs": [
    {
     "name": "stdout",
     "output_type": "stream",
     "text": [
      "Don't be ali\n",
      "Don't beali\n"
     ]
    }
   ],
   "source": [
    "print(\"Don't be\", a.lower())\n",
    "\n",
    "print(\"Don't be\"  + a.lower())"
   ]
  },
  {
   "cell_type": "code",
   "execution_count": 12,
   "id": "81010058-c54d-4e24-9a8d-fffccd9ebad0",
   "metadata": {},
   "outputs": [
    {
     "name": "stdout",
     "output_type": "stream",
     "text": [
      "I love love.\n",
      "I love Python.\n"
     ]
    }
   ],
   "source": [
    "#Formating strings\n",
    "\n",
    "print(\"I love {}.\".format(\"Python\"))\n",
    "print(\"{} {} {}.\".format(\"I\", \"love\", \"Python\"))"
   ]
  },
  {
   "cell_type": "code",
   "execution_count": 14,
   "id": "34e84c34-4409-497b-b9cf-66134cfaf778",
   "metadata": {},
   "outputs": [
    {
     "name": "stdout",
     "output_type": "stream",
     "text": [
      "cat gold\n"
     ]
    }
   ],
   "source": [
    "# Three variables\n",
    "\n",
    "animal = \"cat\"\n",
    "vegetable = \"broccoli\"\n",
    "mineral = \"gold\"\n",
    "\n",
    "print(animal, mineral)"
   ]
  },
  {
   "cell_type": "code",
   "execution_count": 28,
   "id": "70f1dd1a-c578-47a3-a44a-9374b3220cbe",
   "metadata": {},
   "outputs": [
    {
     "name": "stdout",
     "output_type": "stream",
     "text": [
      "10\n",
      "4\n",
      "6\n",
      "4\n"
     ]
    }
   ],
   "source": [
    "#How Python handles numbers\n",
    "# + add, - subtrackt, * multiply, / devide, ** extenentiate, % modulo\n",
    "\n",
    "integar = 2 \n",
    "float = 2.5\n",
    "\n",
    "# 2**4 = 2*2*2*2\n",
    "sum = 2 + 2 \n",
    "diffirence = 8 - 2 \n",
    "number = sum + diffirence\n",
    "\n",
    "print(number)\n",
    "print(sum)\n",
    "print(sum + sum - 2)\n",
    "\n",
    "#Int to float\n",
    "\n",
    "n = '4'\n",
    "ffgf = int(n)\n",
    "print(ffgf)\n",
    "\n",
    "\n",
    "\n",
    "\n",
    "\n",
    "\n"
   ]
  },
  {
   "cell_type": "code",
   "execution_count": 29,
   "id": "9c04e96d-2ed1-4cab-bf58-f40dea692748",
   "metadata": {},
   "outputs": [
    {
     "data": {
      "text/plain": [
       "False"
      ]
     },
     "execution_count": 29,
     "metadata": {},
     "output_type": "execute_result"
    }
   ],
   "source": [
    "1==2"
   ]
  },
  {
   "cell_type": "code",
   "execution_count": 40,
   "id": "6352ab73-cf7d-475a-ad4b-9b6f3725080b",
   "metadata": {},
   "outputs": [
    {
     "name": "stdout",
     "output_type": "stream",
     "text": [
      "No\n"
     ]
    }
   ],
   "source": [
    "age= 44\n",
    "if age > 45:\n",
    "print(\"yes\")\n",
    "elif age < 45:\n",
    "    print(\"No\")\n",
    "else:\n",
    "    print(\"unknown\")\n",
    "            "
   ]
  },
  {
   "cell_type": "code",
   "execution_count": null,
   "id": "5ac039b3-181c-4469-a7e3-2f9bfabbe610",
   "metadata": {},
   "outputs": [],
   "source": []
  }
 ],
 "metadata": {
  "kernelspec": {
   "display_name": "Python 3 (ipykernel)",
   "language": "python",
   "name": "python3"
  },
  "language_info": {
   "codemirror_mode": {
    "name": "ipython",
    "version": 3
   },
   "file_extension": ".py",
   "mimetype": "text/x-python",
   "name": "python",
   "nbconvert_exporter": "python",
   "pygments_lexer": "ipython3",
   "version": "3.7.10"
  }
 },
 "nbformat": 4,
 "nbformat_minor": 5
}
