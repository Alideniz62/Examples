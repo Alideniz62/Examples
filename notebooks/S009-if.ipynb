{
 "cells": [
  {
   "cell_type": "code",
   "execution_count": 1,
   "id": "b7ee1086-fbb9-448b-946d-8fc121aa9cea",
   "metadata": {},
   "outputs": [
    {
     "name": "stdout",
     "output_type": "stream",
     "text": [
      "Odd Number\n"
     ]
    }
   ],
   "source": [
    "# if statemen ts\n",
    "\n",
    "n=11\n",
    "\n",
    "if n % 2 ==0:\n",
    "\n",
    "    print(\" Even Number\")\n",
    "\n",
    "else:\n",
    "    print(\"Odd Number\")"
   ]
  },
  {
   "cell_type": "code",
   "execution_count": 5,
   "id": "63efd590-0252-4d49-aefe-e00c4a05d534",
   "metadata": {},
   "outputs": [
    {
     "name": "stdout",
     "output_type": "stream",
     "text": [
      "c is grater\n"
     ]
    }
   ],
   "source": [
    "#if else is statement, statement doesn't return any result\n",
    "a = 10\n",
    "b = 20\n",
    "c = 30 \n",
    "\n",
    "\n",
    "if a > b and a > c:\n",
    "    print(\"a is grater\")\n",
    "elif b>c:\n",
    "    print(\"b is grater\")\n",
    "else:\n",
    "    print(\"c is grater\")\n",
    "        "
   ]
  },
  {
   "cell_type": "code",
   "execution_count": 6,
   "id": "074c2a47-441a-4281-bc7c-a33ebfff8f71",
   "metadata": {},
   "outputs": [
    {
     "name": "stdout",
     "output_type": "stream",
     "text": [
      "ODD\n"
     ]
    }
   ],
   "source": [
    "result = \"EVEN\" if 11 % 2 == 0 else \"ODD\"\n",
    "\n",
    "print(result)"
   ]
  }
 ],
 "metadata": {
  "kernelspec": {
   "display_name": "Python 3 (ipykernel)",
   "language": "python",
   "name": "python3"
  },
  "language_info": {
   "codemirror_mode": {
    "name": "ipython",
    "version": 3
   },
   "file_extension": ".py",
   "mimetype": "text/x-python",
   "name": "python",
   "nbconvert_exporter": "python",
   "pygments_lexer": "ipython3",
   "version": "3.7.10"
  }
 },
 "nbformat": 4,
 "nbformat_minor": 5
}
