{
 "cells": [
  {
   "cell_type": "code",
   "execution_count": 1,
   "id": "24c37bc9-d7ef-4dc5-ab10-363eccf72b46",
   "metadata": {},
   "outputs": [
    {
     "name": "stdout",
     "output_type": "stream",
     "text": [
      "25\n"
     ]
    }
   ],
   "source": [
    "# lambda is a function, one line function\n",
    "\n",
    "pow = lambda n: n*n\n",
    "\n",
    "x = pow(5)\n",
    "print(x)"
   ]
  },
  {
   "cell_type": "code",
   "execution_count": 2,
   "id": "48cae20e-611a-4ad0-b4c7-52bc8ba643cd",
   "metadata": {},
   "outputs": [
    {
     "name": "stdout",
     "output_type": "stream",
     "text": [
      "<class 'function'>\n"
     ]
    }
   ],
   "source": [
    "print(type(pow))"
   ]
  },
  {
   "cell_type": "code",
   "execution_count": 5,
   "id": "e6ed201d-b66a-407b-aa70-461b80c99ff6",
   "metadata": {},
   "outputs": [
    {
     "name": "stdout",
     "output_type": "stream",
     "text": [
      "power\n"
     ]
    }
   ],
   "source": [
    "def power(n):\n",
    "    return n * n \n",
    "\n",
    "print(power.__name__)"
   ]
  },
  {
   "cell_type": "code",
   "execution_count": 6,
   "id": "a09e03f4-c6c3-4578-8e6f-458396a78c2a",
   "metadata": {},
   "outputs": [
    {
     "name": "stdout",
     "output_type": "stream",
     "text": [
      "35\n"
     ]
    }
   ],
   "source": [
    "add = lambda a, b : a + b\n",
    "\n",
    "print(add(12, 23))"
   ]
  },
  {
   "cell_type": "code",
   "execution_count": 12,
   "id": "8b4a44e1-e447-4c8d-8d89-18f533abd4d8",
   "metadata": {},
   "outputs": [
    {
     "name": "stdout",
     "output_type": "stream",
     "text": [
      "25\n",
      "125\n",
      "5.0\n"
     ]
    }
   ],
   "source": [
    "# python support functional programming\n",
    "#\n",
    "#Write a function that returns sum of suq\n",
    "#sum(square(numbers))\n",
    "import math\n",
    "\n",
    "square = lambda n : n ** 2 # n^2\n",
    "cube = lambda n : n ** 3 # n^3\n",
    "sqrt = lambda n : math.sqrt(n) \n",
    "\n",
    "print(square(5))\n",
    "print(cube(5))\n",
    "print(sqrt(25))\n"
   ]
  },
  {
   "cell_type": "code",
   "execution_count": null,
   "id": "6ffc245e-7056-487d-b819-658343dd3b62",
   "metadata": {},
   "outputs": [],
   "source": [
    "# Higher Order Function : Functional Pattern\n"
   ]
  }
 ],
 "metadata": {
  "kernelspec": {
   "display_name": "Python 3 (ipykernel)",
   "language": "python",
   "name": "python3"
  },
  "language_info": {
   "codemirror_mode": {
    "name": "ipython",
    "version": 3
   },
   "file_extension": ".py",
   "mimetype": "text/x-python",
   "name": "python",
   "nbconvert_exporter": "python",
   "pygments_lexer": "ipython3",
   "version": "3.7.10"
  }
 },
 "nbformat": 4,
 "nbformat_minor": 5
}
