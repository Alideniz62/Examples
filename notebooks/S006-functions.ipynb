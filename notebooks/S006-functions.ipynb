{
 "cells": [
  {
   "cell_type": "code",
   "execution_count": 7,
   "id": "5324ec03-7053-48cc-b48a-0c8143443b93",
   "metadata": {},
   "outputs": [
    {
     "ename": "TypeError",
     "evalue": "greet() takes 0 positional arguments but 1 was given",
     "output_type": "error",
     "traceback": [
      "\u001b[1;31m---------------------------------------------------------------------------\u001b[0m",
      "\u001b[1;31mTypeError\u001b[0m                                 Traceback (most recent call last)",
      "\u001b[1;32mC:\\Users\\ADMINI~1\\AppData\\Local\\Temp/ipykernel_7016/783766241.py\u001b[0m in \u001b[0;36m<module>\u001b[1;34m\u001b[0m\n\u001b[0;32m      6\u001b[0m     \u001b[0mprint\u001b[0m\u001b[1;33m(\u001b[0m\u001b[1;34m\"Happy learning\"\u001b[0m\u001b[1;33m,\u001b[0m \u001b[0mname\u001b[0m\u001b[1;33m)\u001b[0m\u001b[1;33m\u001b[0m\u001b[1;33m\u001b[0m\u001b[0m\n\u001b[0;32m      7\u001b[0m \u001b[1;33m\u001b[0m\u001b[0m\n\u001b[1;32m----> 8\u001b[1;33m \u001b[0mgreet\u001b[0m\u001b[1;33m(\u001b[0m\u001b[1;34m\"Ali\"\u001b[0m\u001b[1;33m)\u001b[0m\u001b[1;33m\u001b[0m\u001b[1;33m\u001b[0m\u001b[0m\n\u001b[0m\u001b[0;32m      9\u001b[0m \u001b[0mgreet\u001b[0m\u001b[1;33m(\u001b[0m\u001b[1;34m\"Tim\"\u001b[0m\u001b[1;33m)\u001b[0m\u001b[1;33m\u001b[0m\u001b[1;33m\u001b[0m\u001b[0m\n\u001b[0;32m     10\u001b[0m \u001b[1;33m\u001b[0m\u001b[0m\n",
      "\u001b[1;31mTypeError\u001b[0m: greet() takes 0 positional arguments but 1 was given"
     ]
    }
   ],
   "source": [
    "# few lines reusable code\n",
    "# define a function \n",
    "\n",
    "def greet():\n",
    "    print(\"Good Morning\", name)\n",
    "    print(\"Happy learning\", name)\n",
    "    \n",
    "greet(\"Ali\")\n",
    "greet(\"Tim\")\n",
    "    \n"
   ]
  },
  {
   "cell_type": "code",
   "execution_count": 3,
   "id": "8047a8f6-a105-43dc-a351-0843a332fcca",
   "metadata": {},
   "outputs": [
    {
     "name": "stdout",
     "output_type": "stream",
     "text": [
      "Good Morning\n",
      "Happy learning\n"
     ]
    }
   ],
   "source": [
    "greeting()"
   ]
  },
  {
   "cell_type": "code",
   "execution_count": null,
   "id": "194beea7-2a3c-46dd-a23a-0b5cda791ab5",
   "metadata": {},
   "outputs": [],
   "source": []
  },
  {
   "cell_type": "code",
   "execution_count": 7,
   "id": "54557bbc",
   "metadata": {},
   "outputs": [
    {
     "ename": "TypeError",
     "evalue": "greet() takes 0 positional arguments but 1 was given",
     "output_type": "error",
     "traceback": [
      "\u001b[1;31m---------------------------------------------------------------------------\u001b[0m",
      "\u001b[1;31mTypeError\u001b[0m                                 Traceback (most recent call last)",
      "\u001b[1;32mC:\\Users\\ADMINI~1\\AppData\\Local\\Temp/ipykernel_7016/783766241.py\u001b[0m in \u001b[0;36m<module>\u001b[1;34m\u001b[0m\n\u001b[0;32m      6\u001b[0m     \u001b[0mprint\u001b[0m\u001b[1;33m(\u001b[0m\u001b[1;34m\"Happy learning\"\u001b[0m\u001b[1;33m,\u001b[0m \u001b[0mname\u001b[0m\u001b[1;33m)\u001b[0m\u001b[1;33m\u001b[0m\u001b[1;33m\u001b[0m\u001b[0m\n\u001b[0;32m      7\u001b[0m \u001b[1;33m\u001b[0m\u001b[0m\n\u001b[1;32m----> 8\u001b[1;33m \u001b[0mgreet\u001b[0m\u001b[1;33m(\u001b[0m\u001b[1;34m\"Ali\"\u001b[0m\u001b[1;33m)\u001b[0m\u001b[1;33m\u001b[0m\u001b[1;33m\u001b[0m\u001b[0m\n\u001b[0m\u001b[0;32m      9\u001b[0m \u001b[0mgreet\u001b[0m\u001b[1;33m(\u001b[0m\u001b[1;34m\"Tim\"\u001b[0m\u001b[1;33m)\u001b[0m\u001b[1;33m\u001b[0m\u001b[1;33m\u001b[0m\u001b[0m\n\u001b[0;32m     10\u001b[0m \u001b[1;33m\u001b[0m\u001b[0m\n",
      "\u001b[1;31mTypeError\u001b[0m: greet() takes 0 positional arguments but 1 was given"
     ]
    }
   ],
   "source": [
    "# few lines reusable code\n",
    "# define a function \n",
    "\n",
    "def greet():\n",
    "    print(\"Good Morning\", name)\n",
    "    print(\"Happy learning\", name)\n",
    "    \n",
    "greet(\"Ali\")\n",
    "greet(\"Tim\")\n",
    "    \n"
   ]
  },
  {
   "cell_type": "code",
   "execution_count": 6,
   "id": "0c285b89-bad7-4c5e-b49e-5a16b22e22cc",
   "metadata": {},
   "outputs": [
    {
     "name": "stdout",
     "output_type": "stream",
     "text": [
      "353\n"
     ]
    }
   ],
   "source": [
    "def add(a, b):\n",
    "    return a + b\n",
    "\n",
    "result =add(11, 342)\n",
    "print(result)\n"
   ]
  },
  {
   "cell_type": "code",
   "execution_count": 11,
   "id": "61082e0c-d2ba-4c1e-a5ea-51f44ff8e118",
   "metadata": {},
   "outputs": [
    {
     "name": "stdout",
     "output_type": "stream",
     "text": [
      "<class 'tuple'> ()\n",
      "0\n",
      "<class 'tuple'> (12, 23, 44, 22)\n",
      "101\n"
     ]
    }
   ],
   "source": [
    "# Vars args\n",
    "\n",
    "def sum(*numbers):\n",
    "    print(type(numbers), numbers)\n",
    "    s = 0\n",
    "    \n",
    "    for n in numbers:\n",
    "        s += n\n",
    "    return s\n",
    "    \n",
    "print( sum() )\n",
    "print( sum(12,23,44,22) )"
   ]
  },
  {
   "cell_type": "code",
   "execution_count": 13,
   "id": "157b1879-36d7-4507-8c7c-0b7a6d343e92",
   "metadata": {},
   "outputs": [
    {
     "name": "stdout",
     "output_type": "stream",
     "text": [
      "placing TESL price at 400 for quantity 32\n"
     ]
    }
   ],
   "source": [
    "# Keyboard arhument \n",
    "\n",
    "def placeorder(symbol, qty, price):\n",
    "    print (\"placing\", symbol, \"price at\", price, \"for quantity\", qty)\n",
    "\n",
    "placeorder(\"TESL\", 32, 400)"
   ]
  },
  {
   "cell_type": "code",
   "execution_count": null,
   "id": "0559ea98-9151-4a0a-84a4-58f36a132cc5",
   "metadata": {},
   "outputs": [],
   "source": [
    "# variable number of keyword"
   ]
  },
  {
   "cell_type": "code",
   "execution_count": 2,
   "id": "3667dc21-a782-4913-9c0d-24230fefbc66",
   "metadata": {},
   "outputs": [],
   "source": [
    "# few lines reusable code\n",
    "# define a function \n",
    "\n",
    "def greeting():\n",
    "    print(\"Good Morning\")\n",
    "    print(\"Happy learning\")\n",
    "    \n"
   ]
  },
  {
   "cell_type": "code",
   "execution_count": 14,
   "id": "4d391219-a7ab-4a0b-82ab-44f179e5461f",
   "metadata": {},
   "outputs": [
    {
     "name": "stdout",
     "output_type": "stream",
     "text": [
      "<class 'dict'> {'id': 1}\n",
      "False\n",
      "<class 'dict'> {'id': 10, 'sso': 'fdsfdsfdfsddfs'}\n",
      "True\n"
     ]
    }
   ],
   "source": [
    "def getreports(**ids):\n",
    "    print(type(ids), ids)\n",
    "    \n",
    "    print( \"sso\" in ids )\n",
    "    \n",
    "getreports(id=1)\n",
    "getreports(id=10, ssn=\"fdsfdsfdfsddfs\")"
   ]
  },
  {
   "cell_type": "code",
   "execution_count": null,
   "id": "8d897094-f016-4189-974d-f1dc26c176b5",
   "metadata": {},
   "outputs": [],
   "source": []
  }
 ],
 "metadata": {
  "kernelspec": {
   "display_name": "Python 3 (ipykernel)",
   "language": "python",
   "name": "python3"
  },
  "language_info": {
   "codemirror_mode": {
    "name": "ipython",
    "version": 3
   },
   "file_extension": ".py",
   "mimetype": "text/x-python",
   "name": "python",
   "nbconvert_exporter": "python",
   "pygments_lexer": "ipython3",
   "version": "3.7.10"
  }
 },
 "nbformat": 4,
 "nbformat_minor": 5
}
