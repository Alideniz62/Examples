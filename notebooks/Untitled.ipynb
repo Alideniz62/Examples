{
 "cells": [
  {
   "cell_type": "code",
   "execution_count": 1,
   "id": "6ee7507a-93a4-4dbc-9eac-5fc793e634a4",
   "metadata": {},
   "outputs": [
    {
     "name": "stdout",
     "output_type": "stream",
     "text": [
      "5\n"
     ]
    }
   ],
   "source": [
    "x = int(5)\n",
    "print(x)"
   ]
  },
  {
   "cell_type": "code",
   "execution_count": 7,
   "id": "f1bff8c8-b4d4-4d95-ba0a-424cd406624d",
   "metadata": {},
   "outputs": [
    {
     "name": "stdout",
     "output_type": "stream",
     "text": [
      "<class 'str'>\n"
     ]
    }
   ],
   "source": [
    "my_name = \"asd\"\n",
    "print(type(my_name))"
   ]
  },
  {
   "cell_type": "code",
   "execution_count": null,
   "id": "c52d3a40-f36b-4329-b4b7-5e825f4144b9",
   "metadata": {},
   "outputs": [],
   "source": []
  }
 ],
 "metadata": {
  "kernelspec": {
   "display_name": "Python 3 (ipykernel)",
   "language": "python",
   "name": "python3"
  },
  "language_info": {
   "codemirror_mode": {
    "name": "ipython",
    "version": 3
   },
   "file_extension": ".py",
   "mimetype": "text/x-python",
   "name": "python",
   "nbconvert_exporter": "python",
   "pygments_lexer": "ipython3",
   "version": "3.7.10"
  }
 },
 "nbformat": 4,
 "nbformat_minor": 5
}
