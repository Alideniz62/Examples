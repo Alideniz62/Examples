{
 "cells": [
  {
   "cell_type": "code",
   "execution_count": 4,
   "id": "456651c3-ad67-475a-8005-e32d26a5c841",
   "metadata": {},
   "outputs": [
    {
     "name": "stdout",
     "output_type": "stream",
     "text": [
      "this will not be shown\n",
      "this will be shown\n"
     ]
    }
   ],
   "source": [
    "# exeption handling\n",
    "# exeptions are errors, that may cause to abnormally\n",
    "\n",
    "try:\n",
    "    42/3\n",
    "    print(\"this will not be shown\")\n",
    "except:\n",
    "    print(\"There is exception, captured\")\n",
    "    \n",
    "print(\"this will be shown\")"
   ]
  },
  {
   "cell_type": "code",
   "execution_count": 8,
   "id": "71cd8eef-8905-4381-b944-a348497399a6",
   "metadata": {},
   "outputs": [
    {
     "name": "stdout",
     "output_type": "stream",
     "text": [
      "Define the variable\n"
     ]
    }
   ],
   "source": [
    "#handle specific exception\n",
    "try:\n",
    "    42/x\n",
    "    print(\"this will not be shown\")\n",
    "except ZeroDivisionError:\n",
    "    print(\"You cannot devide the numbers by 0\")\n",
    "except NameError:\n",
    "    print(\"Define the variable\")\n",
    "    \n"
   ]
  },
  {
   "cell_type": "code",
   "execution_count": 9,
   "id": "d4e99d11-aa0d-4518-bba6-e268538a1cea",
   "metadata": {},
   "outputs": [
    {
     "name": "stdout",
     "output_type": "stream",
     "text": [
      "this will not be shown\n",
      "at finally, clean up\n"
     ]
    }
   ],
   "source": [
    "\n",
    "try:\n",
    "    42/2\n",
    "    print(\"this will not be shown\")\n",
    "except ZeroDivisionError:\n",
    "    print(\"Exceptin caused\")\n",
    "finally: \n",
    "    print(\"at finally, clean up\")\n",
    "    "
   ]
  }
 ],
 "metadata": {
  "kernelspec": {
   "display_name": "Python 3 (ipykernel)",
   "language": "python",
   "name": "python3"
  },
  "language_info": {
   "codemirror_mode": {
    "name": "ipython",
    "version": 3
   },
   "file_extension": ".py",
   "mimetype": "text/x-python",
   "name": "python",
   "nbconvert_exporter": "python",
   "pygments_lexer": "ipython3",
   "version": "3.7.10"
  }
 },
 "nbformat": 4,
 "nbformat_minor": 5
}
