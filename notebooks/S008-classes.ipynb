{
 "cells": [
  {
   "cell_type": "code",
   "execution_count": 1,
   "id": "19426c17-e81d-4658-b1d6-0a06ee4471e6",
   "metadata": {},
   "outputs": [
    {
     "name": "stdout",
     "output_type": "stream",
     "text": [
      "100.0\n",
      "100.0\n",
      "90\n",
      "100\n"
     ]
    }
   ],
   "source": [
    "# Classes are prototayp of an object\n",
    "# Use classes to create object\n",
    "# objects are instance of classes\n",
    "\n",
    "class product:\n",
    "    #class body\n",
    "    price = 100.0 \n",
    "    \n",
    "#Create intsnces\n",
    "\n",
    "p1 = product()\n",
    "p2 = product()\n",
    "\n",
    "print(p1.price)\n",
    "print(p2.price)\n",
    "\n",
    "\n",
    "p1.price = 90\n",
    "p2.price = 100\n",
    "\n",
    "print(p1.price)\n",
    "print(p2.price)"
   ]
  },
  {
   "cell_type": "code",
   "execution_count": 6,
   "id": "bf529210-b546-45b0-ab40-e0d3e3182a00",
   "metadata": {},
   "outputs": [
    {
     "name": "stdout",
     "output_type": "stream",
     "text": [
      "p1 total price 90.0\n"
     ]
    }
   ],
   "source": [
    "class product:\n",
    "    price = 100\n",
    "    discount = 0\n",
    "    total = -1\n",
    "    \n",
    "    # this is implicit\n",
    "    # self is passed as first argument\n",
    "    def grandTotal(self):\n",
    "        self.total = self.price - (self.price * self.discount)/100.0\n",
    "    \n",
    "    def setDiscount(self, discount):\n",
    "        self.discount = discount\n",
    "        \n",
    "p1 = product()\n",
    "p1.discount = 10\n",
    "\n",
    "p1.grandTotal()\n",
    "\n",
    "print(\"p1 total price\", p1.total)\n",
    "        "
   ]
  },
  {
   "cell_type": "code",
   "execution_count": 17,
   "id": "8fe629ad-2f8f-4121-9cf7-2e7576e01e63",
   "metadata": {},
   "outputs": [
    {
     "name": "stdout",
     "output_type": "stream",
     "text": [
      "__init__ called\n",
      "__init__ called\n",
      "__str__ called\n",
      "__str__ called\n",
      "product0,0,0\n",
      "__str__ called\n",
      "product0,0,0\n",
      "product0,0,0\n"
     ]
    }
   ],
   "source": [
    "# initializer\n",
    "\n",
    "class product:\n",
    "    def __init__(self):\n",
    "    \n",
    "        print(\"__init__ called\")\n",
    "        self.price = 0\n",
    "        self.discount = 0\n",
    "        self.total = 0\n",
    "     \n",
    "    def __str__(self):\n",
    "        print(\"__str__ called\")\n",
    "        return \"product\" + str(self.price) + \",\" + str(self.discount) + \",\" + str(self.total)\n",
    "# Create new project\n",
    "\n",
    "p1 = product()\n",
    "p2 = product()\n",
    "\n",
    "text = str(p1)\n",
    "print(p1)\n",
    "print(p2)\n",
    "print(text)"
   ]
  },
  {
   "cell_type": "code",
   "execution_count": null,
   "id": "4bb5ea54-522d-4c6c-8a24-50d62003499d",
   "metadata": {},
   "outputs": [],
   "source": []
  },
  {
   "cell_type": "code",
   "execution_count": 19,
   "id": "c659da09-1177-497e-9c14-550d8b5dd6f3",
   "metadata": {},
   "outputs": [
    {
     "name": "stdout",
     "output_type": "stream",
     "text": [
      "__init__ called\n",
      "__init__ called\n",
      "__str__ called\n",
      "product100,5,0\n",
      "__str__ called\n",
      "product200,4,0\n"
     ]
    }
   ],
   "source": [
    "# initializer\n",
    "\n",
    "class product:\n",
    "    def __init__(self, price, discount):\n",
    "    \n",
    "        print(\"__init__ called\")\n",
    "        self.price = price\n",
    "        self.discount = discount\n",
    "        self.total = 0\n",
    "     \n",
    "    def __str__(self):\n",
    "        print(\"__str__ called\")\n",
    "        return \"product\" + str(self.price) + \",\" + str(self.discount) + \",\" + str(self.total)\n",
    "\n",
    "p1 = product(100, 5)\n",
    "p2 = product(200, 4)\n",
    "\n",
    "print(p1)\n",
    "print(p2)\n"
   ]
  }
 ],
 "metadata": {
  "kernelspec": {
   "display_name": "Python 3 (ipykernel)",
   "language": "python",
   "name": "python3"
  },
  "language_info": {
   "codemirror_mode": {
    "name": "ipython",
    "version": 3
   },
   "file_extension": ".py",
   "mimetype": "text/x-python",
   "name": "python",
   "nbconvert_exporter": "python",
   "pygments_lexer": "ipython3",
   "version": "3.7.10"
  }
 },
 "nbformat": 4,
 "nbformat_minor": 5
}
