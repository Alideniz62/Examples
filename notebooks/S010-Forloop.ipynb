{
 "cells": [
  {
   "cell_type": "code",
   "execution_count": 1,
   "id": "ef14a802-d650-4082-b1af-2b9a9352ec00",
   "metadata": {},
   "outputs": [
    {
     "name": "stdout",
     "output_type": "stream",
     "text": [
      "GAF\n",
      "CCIV\n",
      "TSLA\n"
     ]
    }
   ],
   "source": [
    "stocks = [\"GAF\", \"CCIV\", \"TSLA\"]\n",
    "for stock in stocks:\n",
    "    print(stock)"
   ]
  },
  {
   "cell_type": "code",
   "execution_count": 3,
   "id": "571f61b2-d378-464d-8000-02819a6a61dd",
   "metadata": {},
   "outputs": [
    {
     "name": "stdout",
     "output_type": "stream",
     "text": [
      "GAF\n",
      "CCIV\n",
      "TSLA\n",
      "done processing stock\n"
     ]
    }
   ],
   "source": [
    "# for loop with else\n",
    "# else is excetudet at the end\n",
    "\n",
    "for stock in stocks:\n",
    "    print(stock)\n",
    "else:\n",
    "    print(\"done processing stock\")"
   ]
  },
  {
   "cell_type": "code",
   "execution_count": 5,
   "id": "98483e9d-0054-4e18-a650-abc368e8eb2f",
   "metadata": {},
   "outputs": [
    {
     "name": "stdout",
     "output_type": "stream",
     "text": [
      "GAF\n",
      "TSLA\n",
      "Not Fount\n"
     ]
    }
   ],
   "source": [
    "for stock in stocks:\n",
    "    if stock == \"CCIV\":\n",
    "        continue\n",
    "    print(stock)\n",
    "else:\n",
    "    print(\"Not Fount\")"
   ]
  },
  {
   "cell_type": "code",
   "execution_count": null,
   "id": "46928b4d-93bf-4fe1-963e-8d835d77db47",
   "metadata": {},
   "outputs": [],
   "source": []
  }
 ],
 "metadata": {
  "kernelspec": {
   "display_name": "Python 3 (ipykernel)",
   "language": "python",
   "name": "python3"
  },
  "language_info": {
   "codemirror_mode": {
    "name": "ipython",
    "version": 3
   },
   "file_extension": ".py",
   "mimetype": "text/x-python",
   "name": "python",
   "nbconvert_exporter": "python",
   "pygments_lexer": "ipython3",
   "version": "3.7.10"
  }
 },
 "nbformat": 4,
 "nbformat_minor": 5
}
