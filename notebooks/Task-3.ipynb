{
 "cells": [
  {
   "cell_type": "code",
   "execution_count": null,
   "id": "dfd81b20-987f-4337-99af-d4ddbfa0a67b",
   "metadata": {},
   "outputs": [],
   "source": [
    "import findspark\n",
    "findspark.init()"
   ]
  },
  {
   "cell_type": "code",
   "execution_count": 2,
   "id": "4dcb9455-9d45-41ad-a67f-01060a03bcd2",
   "metadata": {},
   "outputs": [
    {
     "name": "stderr",
     "output_type": "stream",
     "text": [
      "22/04/01 01:09:06 WARN Utils: Your hostname, ubuntu-virtual-machine resolves to a loopback address: 127.0.1.1; using 192.168.80.128 instead (on interface ens33)\n",
      "22/04/01 01:09:06 WARN Utils: Set SPARK_LOCAL_IP if you need to bind to another address\n"
     ]
    },
    {
     "name": "stdout",
     "output_type": "stream",
     "text": [
      ":: loading settings :: url = jar:file:/opt/spark-3.1.3-bin-hadoop2.7/jars/ivy-2.4.0.jar!/org/apache/ivy/core/settings/ivysettings.xml\n"
     ]
    },
    {
     "name": "stderr",
     "output_type": "stream",
     "text": [
      "Ivy Default Cache set to: /home/ubuntu/.ivy2/cache\n",
      "The jars for the packages stored in: /home/ubuntu/.ivy2/jars\n",
      "org.apache.spark#spark-sql-kafka-0-10_2.12 added as a dependency\n",
      ":: resolving dependencies :: org.apache.spark#spark-submit-parent-bf17613e-6b28-49e5-85b7-4f4285d359da;1.0\n",
      "\tconfs: [default]\n",
      "\tfound org.apache.spark#spark-sql-kafka-0-10_2.12;3.1.3 in central\n",
      "\tfound org.apache.spark#spark-token-provider-kafka-0-10_2.12;3.1.3 in central\n",
      "\tfound org.apache.kafka#kafka-clients;2.6.0 in central\n",
      "\tfound com.github.luben#zstd-jni;1.4.8-1 in central\n",
      "\tfound org.lz4#lz4-java;1.7.1 in central\n",
      "\tfound org.xerial.snappy#snappy-java;1.1.8.2 in central\n",
      "\tfound org.slf4j#slf4j-api;1.7.30 in central\n",
      "\tfound org.spark-project.spark#unused;1.0.0 in central\n",
      "\tfound org.apache.commons#commons-pool2;2.6.2 in central\n",
      ":: resolution report :: resolve 958ms :: artifacts dl 18ms\n",
      "\t:: modules in use:\n",
      "\tcom.github.luben#zstd-jni;1.4.8-1 from central in [default]\n",
      "\torg.apache.commons#commons-pool2;2.6.2 from central in [default]\n",
      "\torg.apache.kafka#kafka-clients;2.6.0 from central in [default]\n",
      "\torg.apache.spark#spark-sql-kafka-0-10_2.12;3.1.3 from central in [default]\n",
      "\torg.apache.spark#spark-token-provider-kafka-0-10_2.12;3.1.3 from central in [default]\n",
      "\torg.lz4#lz4-java;1.7.1 from central in [default]\n",
      "\torg.slf4j#slf4j-api;1.7.30 from central in [default]\n",
      "\torg.spark-project.spark#unused;1.0.0 from central in [default]\n",
      "\torg.xerial.snappy#snappy-java;1.1.8.2 from central in [default]\n",
      "\t---------------------------------------------------------------------\n",
      "\t|                  |            modules            ||   artifacts   |\n",
      "\t|       conf       | number| search|dwnlded|evicted|| number|dwnlded|\n",
      "\t---------------------------------------------------------------------\n",
      "\t|      default     |   9   |   0   |   0   |   0   ||   9   |   0   |\n",
      "\t---------------------------------------------------------------------\n",
      ":: retrieving :: org.apache.spark#spark-submit-parent-bf17613e-6b28-49e5-85b7-4f4285d359da\n",
      "\tconfs: [default]\n",
      "\t0 artifacts copied, 9 already retrieved (0kB/13ms)\n",
      "22/04/01 01:09:09 WARN NativeCodeLoader: Unable to load native-hadoop library for your platform... using builtin-java classes where applicable\n",
      "Using Spark's default log4j profile: org/apache/spark/log4j-defaults.properties\n",
      "Setting default log level to \"WARN\".\n",
      "To adjust logging level use sc.setLogLevel(newLevel). For SparkR, use setLogLevel(newLevel).\n",
      "22/04/01 01:09:13 WARN Utils: Service 'SparkUI' could not bind on port 4040. Attempting port 4041.\n"
     ]
    }
   ],
   "source": [
    "from pyspark.conf import SparkConf\n",
    "config = SparkConf()\n",
    "# config.set(\"property\", \"value\")\n",
    "config.setMaster(\"local\").setAppName(\"stocksTicksData\")\n",
    "\n",
    "from pyspark.sql import SparkSession\n",
    "# spark Session, entry point for Spark SQL, DataFrame\n",
    "spark = SparkSession.builder\\\n",
    "                    .config(conf=config)\\\n",
    "                    .getOrCreate()\n",
    "\n",
    "sc = spark.sparkContext"
   ]
  },
  {
   "cell_type": "code",
   "execution_count": 3,
   "id": "0120427b-339e-4a56-a791-ede2f924da38",
   "metadata": {},
   "outputs": [
    {
     "name": "stderr",
     "output_type": "stream",
     "text": [
      "                                                                                \r"
     ]
    },
    {
     "name": "stdout",
     "output_type": "stream",
     "text": [
      "root\n",
      " |-- symbol: string (nullable = true)\n",
      " |-- price: double (nullable = true)\n",
      " |-- volume: integer (nullable = true)\n",
      " |-- timestamp: timestamp (nullable = true)\n",
      " |-- year: integer (nullable = true)\n",
      " |-- month: integer (nullable = true)\n",
      " |-- day: integer (nullable = true)\n",
      " |-- hour: integer (nullable = true)\n",
      " |-- _symbol: string (nullable = true)\n",
      "\n",
      "+--------+-----+------+-------------------+----+-----+---+----+--------+\n",
      "|  symbol|price|volume|          timestamp|year|month|day|hour| _symbol|\n",
      "+--------+-----+------+-------------------+----+-----+---+----+--------+\n",
      "|HDFCBANK| 38.0|    10|2022-03-27 13:44:00|2022|    3| 27|  13|HDFCBANK|\n",
      "|HDFCBANK| 40.0|    40|2022-03-27 13:44:00|2022|    3| 27|  13|HDFCBANK|\n",
      "+--------+-----+------+-------------------+----+-----+---+----+--------+\n",
      "only showing top 2 rows\n",
      "\n"
     ]
    }
   ],
   "source": [
    "\n",
    "StockTicksDf = spark.read.format(\"csv\")\\\n",
    "                .option(\"header\", True)\\\n",
    "                .option(\"inferschema\",True)\\\n",
    "                .load(\"hdfs://localhost:9000/layers/raw/stocks-ticks-csv\")\n",
    "\n",
    "StockTicksDf.printSchema()\n",
    "StockTicksDf.show(2)\n"
   ]
  },
  {
   "cell_type": "code",
   "execution_count": 4,
   "id": "871b0182-b560-43dd-b007-86ad283de255",
   "metadata": {},
   "outputs": [],
   "source": [
    "# Kafka value, key are in binary format\n",
    "# we need to type cast to STRING, \n",
    "# we pick only value, timestamp as we need for 10 minute window\n",
    "# ticksDf = StockTicksDf.selectExpr(\"CAST(value AS STRING)\", \"timestamp\")\n",
    "# ticksDf.printSchema() # we get only value as string"
   ]
  },
  {
   "cell_type": "code",
   "execution_count": 5,
   "id": "7e2ac18a-8142-4f95-ab4a-76e1fe8296c3",
   "metadata": {},
   "outputs": [],
   "source": [
    "# import pyspark.sql.functions as F\n",
    "# from pyspark.sql.types import StructField, StructType, DoubleType, StringType, LongType, TimestampType\n",
    "\n",
    "# schema = StructType( [\n",
    "#     StructField(\"symbol\", StringType(), True),\n",
    "#     StructField(\"price\", DoubleType(), True),\n",
    "#     StructField(\"volume\", LongType(), True),\n",
    "#     StructField(\"timestamp\", LongType(),  True)\n",
    "# ])"
   ]
  },
  {
   "cell_type": "code",
   "execution_count": 6,
   "id": "8d6ff6fe-abc1-4436-961c-2913b5117c4f",
   "metadata": {},
   "outputs": [],
   "source": [
    "# we parse value which is JSON string to kafka struct, \n",
    "# this create a new column [replacing existing value which is string] with type\n",
    "#jsonDf = StockTicksDf.withColumn(\"value\", F.from_json(\"value\", schema))\n",
    "#jsonDf.printSchema()"
   ]
  },
  {
   "cell_type": "code",
   "execution_count": 7,
   "id": "f2a7b509-c0e7-4b94-b04d-52a8e4dd4a07",
   "metadata": {},
   "outputs": [],
   "source": [
    "# now extract all the sub fields symbol, price, volume, timestamp into data frame\n",
    "# exisitng value, timestamp shall be removed. existing timestamp is value produced time, not a stock tick time\n",
    "# value.timestamp that comes from producer is basically a event time\n",
    "#  "
   ]
  },
  {
   "cell_type": "code",
   "execution_count": 14,
   "id": "1bc76caa-3e14-4e29-a718-7ab0bff85ba4",
   "metadata": {},
   "outputs": [
    {
     "name": "stderr",
     "output_type": "stream",
     "text": [
      "                                                                                \r"
     ]
    }
   ],
   "source": [
    "StockTicksDf.write.mode(\"overwrite\")\\\n",
    "                .parquet(\"hdfs://localhost:9000/layers/raw/stocks-ticks-parquet\")"
   ]
  },
  {
   "cell_type": "code",
   "execution_count": 16,
   "id": "7e7a03fb-7f46-4a23-bc35-4dda8d9096d2",
   "metadata": {},
   "outputs": [
    {
     "name": "stdout",
     "output_type": "stream",
     "text": [
      "root\n",
      " |-- symbol: string (nullable = true)\n",
      " |-- price: double (nullable = true)\n",
      " |-- volume: integer (nullable = true)\n",
      " |-- timestamp: timestamp (nullable = true)\n",
      " |-- year: integer (nullable = true)\n",
      " |-- month: integer (nullable = true)\n",
      " |-- day: integer (nullable = true)\n",
      " |-- hour: integer (nullable = true)\n",
      " |-- _symbol: string (nullable = true)\n",
      "\n",
      "+----------+-----+------+-------------------+----+-----+---+----+----------+\n",
      "|    symbol|price|volume|          timestamp|year|month|day|hour|   _symbol|\n",
      "+----------+-----+------+-------------------+----+-----+---+----+----------+\n",
      "|OBEROIRLTY| 41.0|    30|2022-03-27 22:24:00|2022|    3| 27|  22|OBEROIRLTY|\n",
      "|OBEROIRLTY| 18.0|    40|2022-03-27 22:25:00|2022|    3| 27|  22|OBEROIRLTY|\n",
      "|IDFCFIRSTB| 36.0|    10|2022-03-27 19:57:00|2022|    3| 27|  19|IDFCFIRSTB|\n",
      "|IDFCFIRSTB| 50.0|    40|2022-03-27 19:58:00|2022|    3| 27|  19|IDFCFIRSTB|\n",
      "|MCDOWELL-N| 37.0|    10|2022-03-27 23:42:00|2022|    3| 27|  23|MCDOWELL-N|\n",
      "|MCDOWELL-N| 41.0|    10|2022-03-27 23:43:00|2022|    3| 27|  23|MCDOWELL-N|\n",
      "|TATACONSUM| 22.0|    50|2022-03-27 16:34:00|2022|    3| 27|  16|TATACONSUM|\n",
      "|TATACONSUM| 37.0|    10|2022-03-27 16:35:00|2022|    3| 27|  16|TATACONSUM|\n",
      "| GUJGASLTD| 48.0|   100|2022-03-27 11:09:00|2022|    3| 27|  11| GUJGASLTD|\n",
      "| GUJGASLTD| 15.0|    10|2022-03-27 11:09:00|2022|    3| 27|  11| GUJGASLTD|\n",
      "| BATAINDIA| 17.0|   100|2022-03-27 23:07:00|2022|    3| 27|  23| BATAINDIA|\n",
      "| BATAINDIA| 30.0|    10|2022-03-27 23:08:00|2022|    3| 27|  23| BATAINDIA|\n",
      "|AUROPHARMA| 27.0|    30|2022-03-27 10:19:00|2022|    3| 27|  10|AUROPHARMA|\n",
      "|AUROPHARMA|  8.0|    10|2022-03-27 10:20:00|2022|    3| 27|  10|AUROPHARMA|\n",
      "| KOTAKBANK| 29.0|   120|2022-03-27 12:38:00|2022|    3| 27|  12| KOTAKBANK|\n",
      "| KOTAKBANK| 46.0|    10|2022-03-27 12:39:00|2022|    3| 27|  12| KOTAKBANK|\n",
      "| KOTAKBANK| 32.0|    40|2022-03-28 03:26:00|2022|    3| 28|   3| KOTAKBANK|\n",
      "| KOTAKBANK| 29.0|   120|2022-03-28 03:26:00|2022|    3| 28|   3| KOTAKBANK|\n",
      "| HINDPETRO| 16.0|   100|2022-03-28 02:56:00|2022|    3| 28|   2| HINDPETRO|\n",
      "| HINDPETRO| 15.0|    10|2022-03-28 02:57:00|2022|    3| 28|   2| HINDPETRO|\n",
      "+----------+-----+------+-------------------+----+-----+---+----+----------+\n",
      "only showing top 20 rows\n",
      "\n"
     ]
    }
   ],
   "source": [
    "StockTicksDf11 = spark.read.format(\"parquet\")\\\n",
    "                .load(\"hdfs://localhost:9000/layers/raw/stocks-ticks-parquet\")\n",
    "StockTicksDf11.printSchema()\n",
    "StockTicksDf11.show()"
   ]
  },
  {
   "cell_type": "code",
   "execution_count": 10,
   "id": "e72620e0-5a48-4517-a582-79a31abe7112",
   "metadata": {},
   "outputs": [],
   "source": [
    "# we have data coming in stream, each record has timestamp\n",
    "# we have milli seconds 1647283268253, the actual seconds Mon Mar 14 2022 14:41:08\n",
    "# now we have to calculate 1 minute window, sum(volume) up to 1 minute\n",
    "# after conversions, we take timestamp which is truncatd to minute instead of milli seconds, drop temp columns\n",
    "# stockTickDf1  = StockTicksDf \\\n",
    "#                 .withColumn(\"timestampTemp\", (F.col(\"timestamp\") / 1000).cast(\"timestamp\"))\\\n",
    "#                 .withColumn(\"trade_time\", F.date_trunc(\"minute\", F.col(\"timestampTemp\")))\\\n",
    "#                 .drop(\"timestamp\")\\\n",
    "#                 .drop(\"timestampTemp\")\\\n",
    "#                 .withColumnRenamed(\"trade_time\", \"timestamp\")\n",
    "              "
   ]
  },
  {
   "cell_type": "code",
   "execution_count": 11,
   "id": "6cef1b46-6c7e-46d3-b6fd-400bd4ad6003",
   "metadata": {},
   "outputs": [],
   "source": [
    "# from pyspark.sql.functions import date_format\n",
    "\n",
    "# stockTickDf = stockTickDf .withColumn(\"Year\", date_format(\"TIMESTAMP\", \"yyyy\"))\\\n",
    "#                      .withColumn(\"Month\", date_format(\"TIMESTAMP\", \"MM\"))\\\n",
    "#                      .withColumn(\"Day\", date_format(\"TIMESTAMP\", \"dd\"))\\\n",
    "                     #.withColumn(\"Hours\",date_format(\"TIMESTAMP\",\"hh\"))\\\n",
    "                     #.withColumn(\"Minutes\",date_format(\"TIMESTAMP\",\"mm\"))\n"
   ]
  },
  {
   "cell_type": "code",
   "execution_count": 12,
   "id": "6db38fce-2187-4742-afdf-15ec926a7bc3",
   "metadata": {},
   "outputs": [],
   "source": [
    "#stockTickDf .write.mode(\"overwrite\")\\\n",
    "#            .partitionBy(\"Year\", \"Month\", \"Day\",\"Hours\",\"Minutes\",\"symbol\")\\\n",
    " #           .format(\"csv\")\\\n",
    "  #          .save(\"hdfs://localhost:9000/stocks-ticks\")\n",
    "            \n",
    "#stockTickDf .printSchema()\n",
    "#stockTickDf .show(5)"
   ]
  },
  {
   "cell_type": "code",
   "execution_count": 20,
   "id": "305b20b3-e948-48a2-ab7d-bdd475516701",
   "metadata": {},
   "outputs": [
    {
     "ename": "NameError",
     "evalue": "name 'window' is not defined",
     "output_type": "error",
     "traceback": [
      "\u001b[0;31m---------------------------------------------------------------------------\u001b[0m",
      "\u001b[0;31mNameError\u001b[0m                                 Traceback (most recent call last)",
      "\u001b[0;32m/tmp/ipykernel_378310/2982425423.py\u001b[0m in \u001b[0;36m<module>\u001b[0;34m\u001b[0m\n\u001b[1;32m      6\u001b[0m \u001b[0mstockTickDf_1\u001b[0m \u001b[0;34m=\u001b[0m \u001b[0mStockTicksDf11\u001b[0m\u001b[0;31m\\\u001b[0m\u001b[0;34m\u001b[0m\u001b[0;34m\u001b[0m\u001b[0m\n\u001b[1;32m      7\u001b[0m                             \u001b[0;34m.\u001b[0m\u001b[0mselectExpr\u001b[0m\u001b[0;34m(\u001b[0m\u001b[0;34m\"timestamp\"\u001b[0m\u001b[0;34m,\u001b[0m \u001b[0;34m\"symbol\"\u001b[0m\u001b[0;34m,\u001b[0m  \u001b[0;34m\"struct(*) as value\"\u001b[0m\u001b[0;34m)\u001b[0m\u001b[0;31m\\\u001b[0m\u001b[0;34m\u001b[0m\u001b[0;34m\u001b[0m\u001b[0m\n\u001b[0;32m----> 8\u001b[0;31m                             \u001b[0;34m.\u001b[0m\u001b[0mgroupBy\u001b[0m\u001b[0;34m(\u001b[0m\u001b[0;34m\"symbol\"\u001b[0m\u001b[0;34m,\u001b[0m \u001b[0mwindow\u001b[0m\u001b[0;34m(\u001b[0m\u001b[0mcol\u001b[0m\u001b[0;34m(\u001b[0m\u001b[0;34m\"timestamp\"\u001b[0m\u001b[0;34m,\u001b[0m \u001b[0;34m\"60 seconds\"\u001b[0m\u001b[0;34m)\u001b[0m\u001b[0;34m)\u001b[0m\u001b[0;34m)\u001b[0m\u001b[0;31m\\\u001b[0m\u001b[0;34m\u001b[0m\u001b[0;34m\u001b[0m\u001b[0m\n\u001b[0m\u001b[1;32m      9\u001b[0m                             \u001b[0;34m.\u001b[0m\u001b[0magg\u001b[0m\u001b[0;34m(\u001b[0m \u001b[0mcollect_list\u001b[0m\u001b[0;34m(\u001b[0m\u001b[0mcol\u001b[0m\u001b[0;34m(\u001b[0m\u001b[0;34m\"value\"\u001b[0m\u001b[0;34m)\u001b[0m\u001b[0;34m.\u001b[0m\u001b[0malias\u001b[0m\u001b[0;34m(\u001b[0m\u001b[0;34m\"ticks\"\u001b[0m\u001b[0;34m)\u001b[0m\u001b[0;34m)\u001b[0m\u001b[0;34m)\u001b[0m\u001b[0;34m\u001b[0m\u001b[0;34m\u001b[0m\u001b[0m\n\u001b[1;32m     10\u001b[0m \u001b[0;34m\u001b[0m\u001b[0m\n",
      "\u001b[0;31mNameError\u001b[0m: name 'window' is not defined"
     ]
    }
   ],
   "source": [
    "# aggregate\n",
    "# sum (volume), sum(traded_value), candles open, high, low, close [OHLC]\n",
    "# groupBy by symbol, timestamp\n",
    "\n",
    "# now add delayed record processing with waterMark\n",
    "# stockTickDf_1 = StockTicksDf11\\\n",
    "#                             .selectExpr(\"timestamp\", \"symbol\",  \"struct(*) as value\")\\\n",
    "#                             .groupBy(\"symbol\", window(col(\"timestamp\", \"60 seconds\")))\\\n",
    "#                             .agg( collect_list(col(\"value\").alias(\"ticks\")))\n",
    "\n",
    "# stockTickDf_1.printSchema()"
   ]
  },
  {
   "cell_type": "code",
   "execution_count": null,
   "id": "859a361b-c8b1-4e67-8c85-8e7fb7325393",
   "metadata": {},
   "outputs": [],
   "source": [
    "def processBatchData(candleBatchDf, batch_id):\n",
    "    print (\"process batch called\", batch_id, \"writing \", candleBatchDf.count())\n",
    "    \n",
    "    (\n",
    "     candleBatchDf\n",
    "        .partitionBy(\"year\", \"month\", \"day\", \"hour\", \"SYMBOL\")\n",
    "        .write\n",
    "        .mode(\"append\")\n",
    "        .format(\"parquet\")\n",
    "        .filter(\"price\">0, \"volume\">0)\n",
    "        .save(\"hdfs://localhost:9000/layers/clean/stocks-ticks-parquet\")\n",
    "    )"
   ]
  },
  {
   "cell_type": "code",
   "execution_count": null,
   "id": "e6a853f2-2b66-439c-8401-a2e589d0ac44",
   "metadata": {},
   "outputs": [],
   "source": [
    "# spark stream with batch output\n",
    "# spark basically process the data as batch\n",
    "# for developer convinence, we have api, that can give us finite data frame for writing to file/jsbc/db/custom coding\n",
    "# process discrete output batch\n",
    "# this function is called for every update/delete/comlete triggers with result data set as dataframe\n",
    "# candleBatchDf is BATCH DATAFRAME\n",
    "# stockTickDf1Min is STREAM DATAFRAME\n",
    "\n",
    "\n",
    "    # result = candleBatchDf.collect()\n",
    "    # print(result)\n",
    "    # candleBatchDf.show(2)\n",
    "    # write to csv/json/parqeut/database /jdbc etc\n",
    "    # window is nested column, has its children columns called start and end\n",
    "    # start and end are part of nested window column\n",
    "    # append mode will not delete existin data, instead append to existing table\n",
    "\n",
    "# stockTickDf_2 = ( StockTicksDf11.write.mode(\"overwrite\")\n",
    "#                                  .withColumn(\"year\", F.date_format(F.col(\"timestamp\"), \"yyyy\"))\n",
    "#                                  .withColumn(\"month\", F.date_format(F.col(\"timestamp\"), \"MM\"))\n",
    "#                                  .withColumn(\"day\", F.date_format(F.col(\"timestamp\"), \"dd\"))  \n",
    "#                                  .withColumn(\"hour\", F.date_format(F.col(\"timestamp\"), \"HH\"))   \n",
    "#                                  .withColumn(\"_symbol\", F.col(\"symbol\"))   \n",
    "#                                  .partitionBy(\"year\", \"month\", \"day\", \"hour\", \"_symbol\")\n",
    "#                                  .outputMode(\"append\")\n",
    "#                                  .format(\"parquet\")\n",
    "#                                  .option(\"header\", True)\n",
    "#                                  .filter(col(\"price\")>0 & col(\"volume\")>0)\n",
    "#                                  .save( \"hdfs://localhost:9000/layers/clean/stocks-ticks-parquet\")\n",
    "#                     )\n",
    " \n",
    "\n",
    "\n",
    "       \n",
    "\n",
    "    \n"
   ]
  },
  {
   "cell_type": "code",
   "execution_count": null,
   "id": "fa9d9419-c3bc-4b90-a4b9-9074400c007e",
   "metadata": {},
   "outputs": [],
   "source": []
  },
  {
   "cell_type": "code",
   "execution_count": null,
   "id": "eda8485e-1b26-47a9-9e51-8e14453ed1f7",
   "metadata": {},
   "outputs": [],
   "source": []
  }
 ],
 "metadata": {
  "kernelspec": {
   "display_name": "Python 3 (ipykernel)",
   "language": "python",
   "name": "python3"
  },
  "language_info": {
   "codemirror_mode": {
    "name": "ipython",
    "version": 3
   },
   "file_extension": ".py",
   "mimetype": "text/x-python",
   "name": "python",
   "nbconvert_exporter": "python",
   "pygments_lexer": "ipython3",
   "version": "3.7.12"
  }
 },
 "nbformat": 4,
 "nbformat_minor": 5
}
