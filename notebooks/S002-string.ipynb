{
 "cells": [
  {
   "cell_type": "code",
   "execution_count": 11,
   "id": "0e2ffea2-712f-4c76-bafc-e5469e671598",
   "metadata": {},
   "outputs": [
    {
     "name": "stdout",
     "output_type": "stream",
     "text": [
      "3\n"
     ]
    }
   ],
   "source": [
    "# We are going to use structring\n",
    "\n",
    "stocks = [\"INFY\", \"APPL\", \"TSL\"]\n",
    "print (len(stocks))"
   ]
  },
  {
   "cell_type": "code",
   "execution_count": 7,
   "id": "f36fef10-fa51-4966-93e6-1a7aa35c7a27",
   "metadata": {},
   "outputs": [],
   "source": [
    "czz"
   ]
  },
  {
   "cell_type": "code",
   "execution_count": 13,
   "id": "9b890694-8a89-47a2-9cae-8f0281fef152",
   "metadata": {},
   "outputs": [
    {
     "name": "stdout",
     "output_type": "stream",
     "text": [
      "['INFY', 'APPL', 'TSL']\n"
     ]
    }
   ],
   "source": [
    "print(stocks)"
   ]
  },
  {
   "cell_type": "code",
   "execution_count": 14,
   "id": "cf2addce-8b6a-4c48-8f93-ebd968536e9b",
   "metadata": {},
   "outputs": [
    {
     "name": "stdout",
     "output_type": "stream",
     "text": [
      "['APPL', 'TSL']\n"
     ]
    }
   ],
   "source": [
    "print(stocks[1:])"
   ]
  },
  {
   "cell_type": "code",
   "execution_count": null,
   "id": "6bc73ad7-04c8-4182-bba6-16dade6c987a",
   "metadata": {},
   "outputs": [],
   "source": []
  }
 ],
 "metadata": {
  "kernelspec": {
   "display_name": "Python 3 (ipykernel)",
   "language": "python",
   "name": "python3"
  },
  "language_info": {
   "codemirror_mode": {
    "name": "ipython",
    "version": 3
   },
   "file_extension": ".py",
   "mimetype": "text/x-python",
   "name": "python",
   "nbconvert_exporter": "python",
   "pygments_lexer": "ipython3",
   "version": "3.7.10"
  }
 },
 "nbformat": 4,
 "nbformat_minor": 5
}
