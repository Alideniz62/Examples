{
 "cells": [
  {
   "cell_type": "code",
   "execution_count": 4,
   "id": "023b4922-9844-40bf-bf71-e9ad8ed9bbe1",
   "metadata": {},
   "outputs": [],
   "source": [
    "# Dict - Key Value\n",
    "# Key should be unique\n",
    "# {} dict creation\n",
    "\n",
    "countries = {\n",
    "        \"IN\": \"India\",\n",
    "        \"CA\": \"Canada\",\n",
    "        \"USA\": \"United States\"\n",
    "}"
   ]
  },
  {
   "cell_type": "code",
   "execution_count": null,
   "id": "ec376a1f-33a4-4118-b10c-d2a7e460b26f",
   "metadata": {},
   "outputs": [],
   "source": []
  },
  {
   "cell_type": "code",
   "execution_count": 7,
   "id": "a64e4295-6572-4b35-9b9b-68559d81556e",
   "metadata": {},
   "outputs": [
    {
     "name": "stdout",
     "output_type": "stream",
     "text": [
      "India\n"
     ]
    }
   ],
   "source": [
    "code = countries[\"IN\"]\n",
    "print(code)"
   ]
  },
  {
   "cell_type": "code",
   "execution_count": 8,
   "id": "1419ca1d-0da8-4175-b4ac-03d43f187968",
   "metadata": {},
   "outputs": [
    {
     "name": "stdout",
     "output_type": "stream",
     "text": [
      "3\n"
     ]
    }
   ],
   "source": [
    "print(len(countries))"
   ]
  },
  {
   "cell_type": "code",
   "execution_count": 10,
   "id": "f6b8c958-1401-4090-9dce-70e2ccf011a9",
   "metadata": {},
   "outputs": [
    {
     "name": "stdout",
     "output_type": "stream",
     "text": [
      "United States\n"
     ]
    }
   ],
   "source": [
    "#get\n",
    "print(countries.get(\"USA\"))"
   ]
  },
  {
   "cell_type": "code",
   "execution_count": 11,
   "id": "da74887f-4ce0-462b-87f7-3c285dc46f8e",
   "metadata": {},
   "outputs": [
    {
     "data": {
      "text/plain": [
       "dict_items([('IN', 'India'), ('CA', 'Canada'), ('USA', 'United States')])"
      ]
     },
     "execution_count": 11,
     "metadata": {},
     "output_type": "execute_result"
    }
   ],
   "source": [
    "#  Get all items.\n",
    "countries.items()"
   ]
  },
  {
   "cell_type": "code",
   "execution_count": 12,
   "id": "9ae9952b-a0c0-4809-ac0f-993916e00574",
   "metadata": {},
   "outputs": [],
   "source": [
    "# Adding new entry\n",
    "\n",
    "countries[\"AU\"] = \"Australia\""
   ]
  },
  {
   "cell_type": "code",
   "execution_count": 13,
   "id": "4c32ac6e-c7f4-484a-921d-f60a39323c21",
   "metadata": {},
   "outputs": [
    {
     "name": "stdout",
     "output_type": "stream",
     "text": [
      "{'IN': 'India', 'CA': 'Canada', 'USA': 'United States'}\n"
     ]
    }
   ],
   "source": [
    "# to remove items\n",
    "\n",
    "countries.pop(\"AU\")\n",
    "print(countries)\n",
    "\n",
    "del countries[\"AU\"]"
   ]
  },
  {
   "cell_type": "code",
   "execution_count": 14,
   "id": "f28f78bc-b7e6-46aa-983e-126310189e7c",
   "metadata": {},
   "outputs": [
    {
     "name": "stdout",
     "output_type": "stream",
     "text": [
      "{}\n"
     ]
    }
   ],
   "source": [
    "# Remove all entries\n",
    "\n",
    "countries.clear()\n",
    "print(countries)"
   ]
  },
  {
   "cell_type": "code",
   "execution_count": 23,
   "id": "caab3ab2-296b-47ff-bb68-c37dedabecf0",
   "metadata": {},
   "outputs": [
    {
     "name": "stdout",
     "output_type": "stream",
     "text": [
      "5\n"
     ]
    }
   ],
   "source": [
    "# Working with the lists\n",
    "\n",
    "# List items are mutable insert/update/delete \n",
    "\n",
    "stocks = [\"FB\", \"LCID\", \"NNDM\", \"TSLA\", \"APPL\"]\n",
    "\n",
    "#Lenght of list of stocks\n",
    "\n",
    "print(len(stocks))"
   ]
  },
  {
   "cell_type": "code",
   "execution_count": 24,
   "id": "988cbb28-cce7-4fd1-9019-1b3188507bdb",
   "metadata": {},
   "outputs": [],
   "source": [
    "stocks.append(\"MSFT\")\n"
   ]
  },
  {
   "cell_type": "code",
   "execution_count": 29,
   "id": "6413d08c-fe4d-40e7-8bab-2340749ed178",
   "metadata": {},
   "outputs": [
    {
     "name": "stdout",
     "output_type": "stream",
     "text": [
      "['FB', 'LCID', 'NNDM', 'TSLA', 'APPL', 'MSFT']\n",
      "['FB', 'LCID', 'NNDM', 'TSLA', 'APPL']\n",
      "['LCID', 'NNDM', 'TSLA', 'APPL', 'MSFT']\n"
     ]
    }
   ],
   "source": [
    "print(stocks)\n",
    "\n",
    "#Print access list elements in range \n",
    "\n",
    "print(stocks[:-1])\n",
    "print(stocks[1:])"
   ]
  },
  {
   "cell_type": "code",
   "execution_count": 31,
   "id": "6a31181e-8d9c-493d-8add-532e09c6627c",
   "metadata": {},
   "outputs": [
    {
     "name": "stdout",
     "output_type": "stream",
     "text": [
      "['FB', 'LCID', 'HG', 'HG', 'NNDM', 'TSLA', 'APPL', 'MSFT']\n",
      "['FB', 'LCID', 'HG', 'HG', 'NNDM', 'TSLA', 'MSFT']\n"
     ]
    }
   ],
   "source": [
    "# Insert\n",
    "\n",
    "stocks.insert(2, \"HG\")\n",
    "\n",
    "print(stocks)\n",
    "\n",
    "\n",
    "# Remove\n",
    "stocks.remove(\"APPL\")\n",
    "print(stocks)\n"
   ]
  },
  {
   "cell_type": "code",
   "execution_count": 35,
   "id": "9daf9444-8cc6-4555-8439-3942f03d4374",
   "metadata": {},
   "outputs": [
    {
     "name": "stdout",
     "output_type": "stream",
     "text": [
      "{'IN': 'INDIA', 'CA': 'CANADA', 'AU': 'AUSTRALIA'}\n",
      "INDIA\n",
      "INDIA\n",
      "<class 'dict'>\n"
     ]
    }
   ],
   "source": [
    "#Dict - key and value\n",
    "\n",
    "countries = {\n",
    "    \"IN\" : \"INDIA\",\n",
    "    \"CA\" : \"CANADA\",\n",
    "    \"AU\" : \"AUSTRALIA\"\n",
    "    \n",
    "}\n",
    "\n",
    "print(countries)\n",
    "\n",
    "\n",
    "print(countries[\"IN\"])\n",
    "print(countries.get(\"IN\"))\n",
    "\n",
    "print(type(countries))\n",
    "\n"
   ]
  },
  {
   "cell_type": "code",
   "execution_count": 36,
   "id": "48d985f6-1bc8-4af5-8554-144e1b9afd4f",
   "metadata": {},
   "outputs": [
    {
     "data": {
      "text/plain": [
       "dict_values(['INDIA', 'CANADA', 'AUSTRALIA'])"
      ]
     },
     "execution_count": 36,
     "metadata": {},
     "output_type": "execute_result"
    }
   ],
   "source": [
    "countries.values()"
   ]
  },
  {
   "cell_type": "code",
   "execution_count": 41,
   "id": "f3e76450-c092-40dc-b077-c456cdb46c30",
   "metadata": {},
   "outputs": [],
   "source": [
    "#Modify \n",
    "\n",
    "a_= \"3\""
   ]
  }
 ],
 "metadata": {
  "kernelspec": {
   "display_name": "Python 3 (ipykernel)",
   "language": "python",
   "name": "python3"
  },
  "language_info": {
   "codemirror_mode": {
    "name": "ipython",
    "version": 3
   },
   "file_extension": ".py",
   "mimetype": "text/x-python",
   "name": "python",
   "nbconvert_exporter": "python",
   "pygments_lexer": "ipython3",
   "version": "3.7.10"
  }
 },
 "nbformat": 4,
 "nbformat_minor": 5
}
