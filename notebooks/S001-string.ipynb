{
 "cells": [
  {
   "cell_type": "code",
   "execution_count": 4,
   "id": "f6c9303c-c669-443f-9b5f-5727a7ad6c0f",
   "metadata": {},
   "outputs": [],
   "source": [
    "# comments\n",
    "name = \"ALI\"\n",
    "age = 55\n",
    "\n",
    "# mutiple line strings\n",
    "country = \"\"\"\n",
    "united states \n",
    "\"\"\"\n",
    "\n",
    "# Run the code"
   ]
  },
  {
   "cell_type": "code",
   "execution_count": 5,
   "id": "78e446b5-ed25-4e0e-af2d-193ab1a1962e",
   "metadata": {},
   "outputs": [
    {
     "name": "stdout",
     "output_type": "stream",
     "text": [
      "ALI\n",
      "\n",
      "united states \n",
      "\n"
     ]
    }
   ],
   "source": [
    "print(name)\n",
    "\n",
    "print(country)"
   ]
  },
  {
   "cell_type": "code",
   "execution_count": 6,
   "id": "21a72882-6c98-4c6d-a88a-e9e0213b0509",
   "metadata": {
    "collapsed": true,
    "jupyter": {
     "outputs_hidden": true
    },
    "tags": []
   },
   "outputs": [
    {
     "name": "stdout",
     "output_type": "stream",
     "text": [
      "123rfs sdfsf    d\n"
     ]
    }
   ],
   "source": [
    "s = \"123rfs sdfsf    d\"\n",
    "print(s)"
   ]
  },
  {
   "cell_type": "code",
   "execution_count": 7,
   "id": "b446ac21-4a48-4439-a0ad-dea6a1252be4",
   "metadata": {},
   "outputs": [],
   "source": [
    "u = s.upper()"
   ]
  },
  {
   "cell_type": "code",
   "execution_count": 8,
   "id": "1d4d1f60-5ffa-4c5a-b555-7ec654131e4e",
   "metadata": {},
   "outputs": [
    {
     "name": "stdout",
     "output_type": "stream",
     "text": [
      "123RFS SDFSF    D\n"
     ]
    }
   ],
   "source": [
    "print(u)"
   ]
  },
  {
   "cell_type": "code",
   "execution_count": 9,
   "id": "4c166a22-06bd-44c9-9d10-432d719ee950",
   "metadata": {},
   "outputs": [
    {
     "name": "stdout",
     "output_type": "stream",
     "text": [
      "123rfs sdfsf    d\n"
     ]
    }
   ],
   "source": [
    "t = s.strip()\n",
    "print(t)"
   ]
  },
  {
   "cell_type": "code",
   "execution_count": 15,
   "id": "448d4150-6206-4222-819c-9a8f4674264d",
   "metadata": {},
   "outputs": [
    {
     "name": "stdout",
     "output_type": "stream",
     "text": [
      "school\n",
      "Chicago\n",
      "Unites \n",
      "States\n",
      "Of\n",
      "America\n",
      "UNITES \n",
      "STATES\n",
      "OF\n",
      "AMERICA\n"
     ]
    }
   ],
   "source": [
    "# Working on strings\n",
    "\n",
    "# Create basic strings\n",
    "\n",
    "a = \"school\"\n",
    "\n",
    "b = \"Chicago\"\n",
    "\n",
    "c = \"\"\"Unites \n",
    "States\n",
    "Of\n",
    "America\"\"\"\n",
    "\n",
    "print(a)\n",
    "print(b)\n",
    "print(c)\n",
    "\n",
    "\n",
    "print(\n",
    "    c.upper())\n",
    "\n"
   ]
  },
  {
   "cell_type": "code",
   "execution_count": null,
   "id": "fc5d8011-4269-4512-a05c-b2ea226ae2ee",
   "metadata": {},
   "outputs": [],
   "source": []
  },
  {
   "cell_type": "code",
   "execution_count": null,
   "id": "111e419f-7eab-415d-9683-f97c15d58e96",
   "metadata": {},
   "outputs": [],
   "source": []
  }
 ],
 "metadata": {
  "kernelspec": {
   "display_name": "Python 3 (ipykernel)",
   "language": "python",
   "name": "python3"
  },
  "language_info": {
   "codemirror_mode": {
    "name": "ipython",
    "version": 3
   },
   "file_extension": ".py",
   "mimetype": "text/x-python",
   "name": "python",
   "nbconvert_exporter": "python",
   "pygments_lexer": "ipython3",
   "version": "3.7.10"
  }
 },
 "nbformat": 4,
 "nbformat_minor": 5
}
