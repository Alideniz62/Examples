{
 "cells": [
  {
   "cell_type": "code",
   "execution_count": 2,
   "id": "019c34c0-d566-4a37-a0d2-6b77852da0dc",
   "metadata": {},
   "outputs": [
    {
     "name": "stdout",
     "output_type": "stream",
     "text": [
      "{'TSLA', 'AAPL', 'FB', 'ERT'}\n",
      "4\n"
     ]
    }
   ],
   "source": [
    "# Set is a collection\n",
    "# {} - represent set\n",
    "\n",
    "stocks = {\"AAPL\", \"TSLA\", \"FB\", \"ERT\"}\n",
    "print(stocks)\n",
    "print(len(stocks))"
   ]
  },
  {
   "cell_type": "code",
   "execution_count": 3,
   "id": "fff4baf4-af41-4e94-b9bb-f01ab5d096ec",
   "metadata": {},
   "outputs": [
    {
     "name": "stdout",
     "output_type": "stream",
     "text": [
      "True\n"
     ]
    }
   ],
   "source": [
    "hast = \"TSLA\" in stocks\n",
    "print(hast)"
   ]
  },
  {
   "cell_type": "code",
   "execution_count": null,
   "id": "f22c4fcb-0f14-4007-a9ae-1b04d603dcd6",
   "metadata": {},
   "outputs": [],
   "source": []
  }
 ],
 "metadata": {
  "kernelspec": {
   "display_name": "Python 3 (ipykernel)",
   "language": "python",
   "name": "python3"
  },
  "language_info": {
   "codemirror_mode": {
    "name": "ipython",
    "version": 3
   },
   "file_extension": ".py",
   "mimetype": "text/x-python",
   "name": "python",
   "nbconvert_exporter": "python",
   "pygments_lexer": "ipython3",
   "version": "3.7.10"
  }
 },
 "nbformat": 4,
 "nbformat_minor": 5
}
